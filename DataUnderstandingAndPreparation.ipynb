{
 "cells": [
  {
   "cell_type": "markdown",
   "metadata": {},
   "source": [
    "# Lab 2: ML Life Cycle: Data Understanding and Data Preparation"
   ]
  },
  {
   "cell_type": "code",
   "execution_count": 1,
   "metadata": {},
   "outputs": [],
   "source": [
    "import os\n",
    "import pandas as pd\n",
    "import numpy as np\n",
    "%matplotlib inline\n",
    "import matplotlib.pyplot as plt \n",
    "import seaborn as sns"
   ]
  },
  {
   "cell_type": "markdown",
   "metadata": {},
   "source": [
    "In this lab, you will practice the second and third steps of the machine learning life cycle: data understanding and data preparation. You will beging preparing your data so that it can be used to train a machine learning model that solves a regression problem. Note that by the end of the lab, your data set won't be completely ready for the modeling phase, but you will gain experience using some common data preparation techniques. \n",
    "\n",
    "You will complete the following tasks to transform your data:\n",
    "\n",
    "1. Build your data matrix and define your ML problem:\n",
    "    * Load the Airbnb \"listings\" data set into a DataFrame and inspect the data\n",
    "    * Define the label and convert the label's data type to one that is more suitable for modeling\n",
    "    * Identify features\n",
    "2. Clean your data:\n",
    "    * Handle outliers by building a new regression label column by winsorizing outliers\n",
    "    * Handle missing data by replacing all missing values in the dataset with means\n",
    "3. Perform feature transformation using one-hot encoding\n",
    "4. Explore your data:\n",
    "    * Identify two features with the highest correlation with label\n",
    "    * Build appropriate bivariate plots to visualize the correlations between features and the label\n",
    "5. Analysis:\n",
    "    * Analyze the relationship between the features and the label\n",
    "    * Brainstorm what else needs to be done to fully prepare the data for modeling"
   ]
  },
  {
   "cell_type": "markdown",
   "metadata": {},
   "source": [
    "## Part 1. Build Your Data Matrix (DataFrame) and Define Your ML Problem"
   ]
  },
  {
   "cell_type": "markdown",
   "metadata": {},
   "source": [
    "#### Load a Data Set and Save it as a Pandas DataFrame"
   ]
  },
  {
   "cell_type": "markdown",
   "metadata": {},
   "source": [
    "We will be working with the Airbnb NYC \"listings\" data set. Use the specified path and name of the file to load the data. Save it as a Pandas DataFrame called `df`."
   ]
  },
  {
   "cell_type": "code",
   "execution_count": 2,
   "metadata": {},
   "outputs": [],
   "source": [
    "# Do not remove or edit the line below:\n",
    "filename = os.path.join(os.getcwd(), \"data\", \"airbnbData.csv\")"
   ]
  },
  {
   "cell_type": "markdown",
   "metadata": {},
   "source": [
    "**Task**: Load the data and save it to DataFrame `df`.\n",
    "\n",
    "<i>Note:</i> You may receive a warning message. Ignore this warning."
   ]
  },
  {
   "cell_type": "code",
   "execution_count": 3,
   "metadata": {},
   "outputs": [
    {
     "name": "stderr",
     "output_type": "stream",
     "text": [
      "/usr/local/lib/python3.6/dist-packages/IPython/core/interactiveshell.py:2728: DtypeWarning: Columns (67) have mixed types.Specify dtype option on import or set low_memory=False.\n",
      "  interactivity=interactivity, compiler=compiler, result=result)\n"
     ]
    }
   ],
   "source": [
    "# YOUR CODE HERE\n",
    "df = pd.read_csv(filename, header = 0)"
   ]
  },
  {
   "cell_type": "markdown",
   "metadata": {},
   "source": [
    "####  Inspect the Data\n"
   ]
  },
  {
   "cell_type": "markdown",
   "metadata": {},
   "source": [
    "<b>Task</b>: Display the shape of `df` -- that is, the number of rows and columns."
   ]
  },
  {
   "cell_type": "code",
   "execution_count": 4,
   "metadata": {},
   "outputs": [
    {
     "data": {
      "text/plain": [
       "(38277, 74)"
      ]
     },
     "execution_count": 4,
     "metadata": {},
     "output_type": "execute_result"
    }
   ],
   "source": [
    "# YOUR CODE HERE\n",
    "df.shape"
   ]
  },
  {
   "cell_type": "markdown",
   "metadata": {},
   "source": [
    "<b>Task</b>: Display the column names."
   ]
  },
  {
   "cell_type": "code",
   "execution_count": 5,
   "metadata": {},
   "outputs": [
    {
     "data": {
      "text/plain": [
       "Index(['id', 'listing_url', 'scrape_id', 'last_scraped', 'name', 'description',\n",
       "       'neighborhood_overview', 'picture_url', 'host_id', 'host_url',\n",
       "       'host_name', 'host_since', 'host_location', 'host_about',\n",
       "       'host_response_time', 'host_response_rate', 'host_acceptance_rate',\n",
       "       'host_is_superhost', 'host_thumbnail_url', 'host_picture_url',\n",
       "       'host_neighbourhood', 'host_listings_count',\n",
       "       'host_total_listings_count', 'host_verifications',\n",
       "       'host_has_profile_pic', 'host_identity_verified', 'neighbourhood',\n",
       "       'neighbourhood_cleansed', 'neighbourhood_group_cleansed', 'latitude',\n",
       "       'longitude', 'property_type', 'room_type', 'accommodates', 'bathrooms',\n",
       "       'bathrooms_text', 'bedrooms', 'beds', 'amenities', 'price',\n",
       "       'minimum_nights', 'maximum_nights', 'minimum_minimum_nights',\n",
       "       'maximum_minimum_nights', 'minimum_maximum_nights',\n",
       "       'maximum_maximum_nights', 'minimum_nights_avg_ntm',\n",
       "       'maximum_nights_avg_ntm', 'calendar_updated', 'has_availability',\n",
       "       'availability_30', 'availability_60', 'availability_90',\n",
       "       'availability_365', 'calendar_last_scraped', 'number_of_reviews',\n",
       "       'number_of_reviews_ltm', 'number_of_reviews_l30d', 'first_review',\n",
       "       'last_review', 'review_scores_rating', 'review_scores_accuracy',\n",
       "       'review_scores_cleanliness', 'review_scores_checkin',\n",
       "       'review_scores_communication', 'review_scores_location',\n",
       "       'review_scores_value', 'license', 'instant_bookable',\n",
       "       'calculated_host_listings_count',\n",
       "       'calculated_host_listings_count_entire_homes',\n",
       "       'calculated_host_listings_count_private_rooms',\n",
       "       'calculated_host_listings_count_shared_rooms', 'reviews_per_month'],\n",
       "      dtype='object')"
      ]
     },
     "execution_count": 5,
     "metadata": {},
     "output_type": "execute_result"
    }
   ],
   "source": [
    "# YOUR CODE HERE\n",
    "df.columns"
   ]
  },
  {
   "cell_type": "markdown",
   "metadata": {},
   "source": [
    "**Task**: Get a peek at the data by displaying the first few rows, as you usually do."
   ]
  },
  {
   "cell_type": "code",
   "execution_count": 6,
   "metadata": {},
   "outputs": [
    {
     "data": {
      "text/html": [
       "<div>\n",
       "<style scoped>\n",
       "    .dataframe tbody tr th:only-of-type {\n",
       "        vertical-align: middle;\n",
       "    }\n",
       "\n",
       "    .dataframe tbody tr th {\n",
       "        vertical-align: top;\n",
       "    }\n",
       "\n",
       "    .dataframe thead th {\n",
       "        text-align: right;\n",
       "    }\n",
       "</style>\n",
       "<table border=\"1\" class=\"dataframe\">\n",
       "  <thead>\n",
       "    <tr style=\"text-align: right;\">\n",
       "      <th></th>\n",
       "      <th>id</th>\n",
       "      <th>listing_url</th>\n",
       "      <th>scrape_id</th>\n",
       "      <th>last_scraped</th>\n",
       "      <th>name</th>\n",
       "      <th>description</th>\n",
       "      <th>neighborhood_overview</th>\n",
       "      <th>picture_url</th>\n",
       "      <th>host_id</th>\n",
       "      <th>host_url</th>\n",
       "      <th>...</th>\n",
       "      <th>review_scores_communication</th>\n",
       "      <th>review_scores_location</th>\n",
       "      <th>review_scores_value</th>\n",
       "      <th>license</th>\n",
       "      <th>instant_bookable</th>\n",
       "      <th>calculated_host_listings_count</th>\n",
       "      <th>calculated_host_listings_count_entire_homes</th>\n",
       "      <th>calculated_host_listings_count_private_rooms</th>\n",
       "      <th>calculated_host_listings_count_shared_rooms</th>\n",
       "      <th>reviews_per_month</th>\n",
       "    </tr>\n",
       "  </thead>\n",
       "  <tbody>\n",
       "    <tr>\n",
       "      <th>0</th>\n",
       "      <td>2595</td>\n",
       "      <td>https://www.airbnb.com/rooms/2595</td>\n",
       "      <td>20211204143024</td>\n",
       "      <td>2021-12-05</td>\n",
       "      <td>Skylit Midtown Castle</td>\n",
       "      <td>Beautiful, spacious skylit studio in the heart...</td>\n",
       "      <td>Centrally located in the heart of Manhattan ju...</td>\n",
       "      <td>https://a0.muscache.com/pictures/f0813a11-40b2...</td>\n",
       "      <td>2845</td>\n",
       "      <td>https://www.airbnb.com/users/show/2845</td>\n",
       "      <td>...</td>\n",
       "      <td>4.79</td>\n",
       "      <td>4.86</td>\n",
       "      <td>4.41</td>\n",
       "      <td>NaN</td>\n",
       "      <td>f</td>\n",
       "      <td>3</td>\n",
       "      <td>3</td>\n",
       "      <td>0</td>\n",
       "      <td>0</td>\n",
       "      <td>0.33</td>\n",
       "    </tr>\n",
       "    <tr>\n",
       "      <th>1</th>\n",
       "      <td>3831</td>\n",
       "      <td>https://www.airbnb.com/rooms/3831</td>\n",
       "      <td>20211204143024</td>\n",
       "      <td>2021-12-05</td>\n",
       "      <td>Whole flr w/private bdrm, bath &amp; kitchen(pls r...</td>\n",
       "      <td>Enjoy 500 s.f. top floor in 1899 brownstone, w...</td>\n",
       "      <td>Just the right mix of urban center and local n...</td>\n",
       "      <td>https://a0.muscache.com/pictures/e49999c2-9fd5...</td>\n",
       "      <td>4869</td>\n",
       "      <td>https://www.airbnb.com/users/show/4869</td>\n",
       "      <td>...</td>\n",
       "      <td>4.80</td>\n",
       "      <td>4.71</td>\n",
       "      <td>4.64</td>\n",
       "      <td>NaN</td>\n",
       "      <td>f</td>\n",
       "      <td>1</td>\n",
       "      <td>1</td>\n",
       "      <td>0</td>\n",
       "      <td>0</td>\n",
       "      <td>4.86</td>\n",
       "    </tr>\n",
       "    <tr>\n",
       "      <th>2</th>\n",
       "      <td>5121</td>\n",
       "      <td>https://www.airbnb.com/rooms/5121</td>\n",
       "      <td>20211204143024</td>\n",
       "      <td>2021-12-05</td>\n",
       "      <td>BlissArtsSpace!</td>\n",
       "      <td>&lt;b&gt;The space&lt;/b&gt;&lt;br /&gt;HELLO EVERYONE AND THANK...</td>\n",
       "      <td>NaN</td>\n",
       "      <td>https://a0.muscache.com/pictures/2090980c-b68e...</td>\n",
       "      <td>7356</td>\n",
       "      <td>https://www.airbnb.com/users/show/7356</td>\n",
       "      <td>...</td>\n",
       "      <td>4.91</td>\n",
       "      <td>4.47</td>\n",
       "      <td>4.52</td>\n",
       "      <td>NaN</td>\n",
       "      <td>f</td>\n",
       "      <td>2</td>\n",
       "      <td>0</td>\n",
       "      <td>2</td>\n",
       "      <td>0</td>\n",
       "      <td>0.52</td>\n",
       "    </tr>\n",
       "    <tr>\n",
       "      <th>3</th>\n",
       "      <td>5136</td>\n",
       "      <td>https://www.airbnb.com/rooms/5136</td>\n",
       "      <td>20211204143024</td>\n",
       "      <td>2021-12-05</td>\n",
       "      <td>Spacious Brooklyn Duplex, Patio + Garden</td>\n",
       "      <td>We welcome you to stay in our lovely 2 br dupl...</td>\n",
       "      <td>NaN</td>\n",
       "      <td>https://a0.muscache.com/pictures/miso/Hosting-...</td>\n",
       "      <td>7378</td>\n",
       "      <td>https://www.airbnb.com/users/show/7378</td>\n",
       "      <td>...</td>\n",
       "      <td>5.00</td>\n",
       "      <td>4.50</td>\n",
       "      <td>5.00</td>\n",
       "      <td>NaN</td>\n",
       "      <td>f</td>\n",
       "      <td>1</td>\n",
       "      <td>1</td>\n",
       "      <td>0</td>\n",
       "      <td>0</td>\n",
       "      <td>0.02</td>\n",
       "    </tr>\n",
       "    <tr>\n",
       "      <th>4</th>\n",
       "      <td>5178</td>\n",
       "      <td>https://www.airbnb.com/rooms/5178</td>\n",
       "      <td>20211204143024</td>\n",
       "      <td>2021-12-05</td>\n",
       "      <td>Large Furnished Room Near B'way</td>\n",
       "      <td>Please don’t expect the luxury here just a bas...</td>\n",
       "      <td>Theater district, many restaurants around here.</td>\n",
       "      <td>https://a0.muscache.com/pictures/12065/f070997...</td>\n",
       "      <td>8967</td>\n",
       "      <td>https://www.airbnb.com/users/show/8967</td>\n",
       "      <td>...</td>\n",
       "      <td>4.42</td>\n",
       "      <td>4.87</td>\n",
       "      <td>4.36</td>\n",
       "      <td>NaN</td>\n",
       "      <td>f</td>\n",
       "      <td>1</td>\n",
       "      <td>0</td>\n",
       "      <td>1</td>\n",
       "      <td>0</td>\n",
       "      <td>3.68</td>\n",
       "    </tr>\n",
       "  </tbody>\n",
       "</table>\n",
       "<p>5 rows × 74 columns</p>\n",
       "</div>"
      ],
      "text/plain": [
       "     id                        listing_url       scrape_id last_scraped  \\\n",
       "0  2595  https://www.airbnb.com/rooms/2595  20211204143024   2021-12-05   \n",
       "1  3831  https://www.airbnb.com/rooms/3831  20211204143024   2021-12-05   \n",
       "2  5121  https://www.airbnb.com/rooms/5121  20211204143024   2021-12-05   \n",
       "3  5136  https://www.airbnb.com/rooms/5136  20211204143024   2021-12-05   \n",
       "4  5178  https://www.airbnb.com/rooms/5178  20211204143024   2021-12-05   \n",
       "\n",
       "                                                name  \\\n",
       "0                              Skylit Midtown Castle   \n",
       "1  Whole flr w/private bdrm, bath & kitchen(pls r...   \n",
       "2                                    BlissArtsSpace!   \n",
       "3           Spacious Brooklyn Duplex, Patio + Garden   \n",
       "4                   Large Furnished Room Near B'way　   \n",
       "\n",
       "                                         description  \\\n",
       "0  Beautiful, spacious skylit studio in the heart...   \n",
       "1  Enjoy 500 s.f. top floor in 1899 brownstone, w...   \n",
       "2  <b>The space</b><br />HELLO EVERYONE AND THANK...   \n",
       "3  We welcome you to stay in our lovely 2 br dupl...   \n",
       "4  Please don’t expect the luxury here just a bas...   \n",
       "\n",
       "                               neighborhood_overview  \\\n",
       "0  Centrally located in the heart of Manhattan ju...   \n",
       "1  Just the right mix of urban center and local n...   \n",
       "2                                                NaN   \n",
       "3                                                NaN   \n",
       "4    Theater district, many restaurants around here.   \n",
       "\n",
       "                                         picture_url  host_id  \\\n",
       "0  https://a0.muscache.com/pictures/f0813a11-40b2...     2845   \n",
       "1  https://a0.muscache.com/pictures/e49999c2-9fd5...     4869   \n",
       "2  https://a0.muscache.com/pictures/2090980c-b68e...     7356   \n",
       "3  https://a0.muscache.com/pictures/miso/Hosting-...     7378   \n",
       "4  https://a0.muscache.com/pictures/12065/f070997...     8967   \n",
       "\n",
       "                                 host_url  ... review_scores_communication  \\\n",
       "0  https://www.airbnb.com/users/show/2845  ...                        4.79   \n",
       "1  https://www.airbnb.com/users/show/4869  ...                        4.80   \n",
       "2  https://www.airbnb.com/users/show/7356  ...                        4.91   \n",
       "3  https://www.airbnb.com/users/show/7378  ...                        5.00   \n",
       "4  https://www.airbnb.com/users/show/8967  ...                        4.42   \n",
       "\n",
       "  review_scores_location review_scores_value license instant_bookable  \\\n",
       "0                   4.86                4.41     NaN                f   \n",
       "1                   4.71                4.64     NaN                f   \n",
       "2                   4.47                4.52     NaN                f   \n",
       "3                   4.50                5.00     NaN                f   \n",
       "4                   4.87                4.36     NaN                f   \n",
       "\n",
       "  calculated_host_listings_count calculated_host_listings_count_entire_homes  \\\n",
       "0                              3                                           3   \n",
       "1                              1                                           1   \n",
       "2                              2                                           0   \n",
       "3                              1                                           1   \n",
       "4                              1                                           0   \n",
       "\n",
       "  calculated_host_listings_count_private_rooms  \\\n",
       "0                                            0   \n",
       "1                                            0   \n",
       "2                                            2   \n",
       "3                                            0   \n",
       "4                                            1   \n",
       "\n",
       "  calculated_host_listings_count_shared_rooms reviews_per_month  \n",
       "0                                           0              0.33  \n",
       "1                                           0              4.86  \n",
       "2                                           0              0.52  \n",
       "3                                           0              0.02  \n",
       "4                                           0              3.68  \n",
       "\n",
       "[5 rows x 74 columns]"
      ]
     },
     "execution_count": 6,
     "metadata": {},
     "output_type": "execute_result"
    }
   ],
   "source": [
    "# YOUR CODE HERE\n",
    "df.head()"
   ]
  },
  {
   "cell_type": "markdown",
   "metadata": {},
   "source": [
    "#### Define the Label"
   ]
  },
  {
   "cell_type": "markdown",
   "metadata": {},
   "source": [
    "Assume that your goal is to train a machine learning model that predicts the price of an Airbnb. This is an example of supervised learning and is a regression problem. In our dataset, our label will be the `price` column. Let's inspect the values in the `price` column."
   ]
  },
  {
   "cell_type": "code",
   "execution_count": 7,
   "metadata": {},
   "outputs": [
    {
     "data": {
      "text/plain": [
       "0        $150.00\n",
       "1         $75.00\n",
       "2         $60.00\n",
       "3        $275.00\n",
       "4         $68.00\n",
       "          ...   \n",
       "38272     $79.00\n",
       "38273     $76.00\n",
       "38274    $116.00\n",
       "38275    $106.00\n",
       "38276    $689.00\n",
       "Name: price, Length: 38277, dtype: object"
      ]
     },
     "execution_count": 7,
     "metadata": {},
     "output_type": "execute_result"
    }
   ],
   "source": [
    "df['price']"
   ]
  },
  {
   "cell_type": "markdown",
   "metadata": {},
   "source": [
    "Notice the `price` column contains values that are listed as $<$currency_name$>$$<$numeric_value$>$. \n",
    "<br>For example, it contains values that look like this: `$120`. <br>\n",
    "\n",
    "**Task**:  Obtain the data type of the values in this column:"
   ]
  },
  {
   "cell_type": "code",
   "execution_count": 8,
   "metadata": {},
   "outputs": [
    {
     "data": {
      "text/plain": [
       "dtype('O')"
      ]
     },
     "execution_count": 8,
     "metadata": {},
     "output_type": "execute_result"
    }
   ],
   "source": [
    "# YOUR CODE HERE\n",
    "df['price'].dtypes"
   ]
  },
  {
   "cell_type": "markdown",
   "metadata": {},
   "source": [
    "Notice that the data type is \"object,\" which in Pandas translates to the String data type."
   ]
  },
  {
   "cell_type": "markdown",
   "metadata": {},
   "source": [
    "**Task**:  Display the first 15 unique values of  the `price` column:"
   ]
  },
  {
   "cell_type": "code",
   "execution_count": 9,
   "metadata": {},
   "outputs": [
    {
     "data": {
      "text/plain": [
       "array(['$150.00', '$75.00', '$60.00', '$275.00', '$68.00', '$98.00',\n",
       "       '$89.00', '$65.00', '$62.00', '$90.00', '$199.00', '$96.00',\n",
       "       '$299.00', '$140.00'], dtype=object)"
      ]
     },
     "execution_count": 9,
     "metadata": {},
     "output_type": "execute_result"
    }
   ],
   "source": [
    "# YOUR CODE HERE\n",
    "df['price'].head(15).unique()"
   ]
  },
  {
   "cell_type": "markdown",
   "metadata": {},
   "source": [
    "In order for us to use the prices for modeling, we will have to transform the values in the `price` column from strings to floats. We will:\n",
    "\n",
    "* remove the dollar signs (in this case, the platform forces the currency to be the USD, so we do not need to worry about targeting, say, the Japanese Yen sign, nor about converting the values into USD). \n",
    "* remove the commas from all values that are in the thousands or above: for example, `$2,500`. \n",
    "\n",
    "The code cell below accomplishes this."
   ]
  },
  {
   "cell_type": "code",
   "execution_count": 10,
   "metadata": {},
   "outputs": [],
   "source": [
    "df['price'] = df['price'].str.replace(',', '')\n",
    "df['price'] = df['price'].str.replace('$', '')\n",
    "df['price'] = df['price'].astype(float)"
   ]
  },
  {
   "cell_type": "markdown",
   "metadata": {},
   "source": [
    "**Task**:  Display the first 15 unique values of  the `price` column again to make sure they have been transformed."
   ]
  },
  {
   "cell_type": "code",
   "execution_count": 14,
   "metadata": {},
   "outputs": [
    {
     "data": {
      "text/plain": [
       "array([150.,  75.,  60., 275.,  68.,  98.,  89.,  65.,  62.,  90., 199.,\n",
       "        96., 299., 140.])"
      ]
     },
     "execution_count": 14,
     "metadata": {},
     "output_type": "execute_result"
    }
   ],
   "source": [
    "# YOUR CODE HERE\n",
    "df['price'].head(15).unique()"
   ]
  },
  {
   "cell_type": "markdown",
   "metadata": {},
   "source": [
    "#### Identify Features"
   ]
  },
  {
   "cell_type": "markdown",
   "metadata": {},
   "source": [
    "Simply by inspecting the data, let's identify some columns that should not serve as features - those that will not help us solve our predictive ML problem. "
   ]
  },
  {
   "cell_type": "markdown",
   "metadata": {},
   "source": [
    "Some that stand out are columns that contain website addresses (URLs).\n",
    "\n",
    "**Task**: Create a list which contains the names of columns that contain URLs. Save the resulting list to variable `url_colnames`.\n",
    "\n",
    "*Tip*: There are different ways to accomplish this, including using Python list comprehensions."
   ]
  },
  {
   "cell_type": "code",
   "execution_count": 15,
   "metadata": {},
   "outputs": [
    {
     "data": {
      "text/plain": [
       "['listing_url',\n",
       " 'picture_url',\n",
       " 'host_url',\n",
       " 'host_thumbnail_url',\n",
       " 'host_picture_url']"
      ]
     },
     "execution_count": 15,
     "metadata": {},
     "output_type": "execute_result"
    }
   ],
   "source": [
    "url_colnames = [i for i in df.columns if 'url' in i]\n",
    "url_colnames"
   ]
  },
  {
   "cell_type": "markdown",
   "metadata": {},
   "source": [
    "**Task**: Drop the columns with the specified names contained in list `url_colnames` in place (that is, make sure this change applies to the original DataFrame `df`, instead of creating a temporary new DataFrame object with fewer columns)."
   ]
  },
  {
   "cell_type": "code",
   "execution_count": 16,
   "metadata": {
    "scrolled": true
   },
   "outputs": [
    {
     "data": {
      "text/plain": [
       "Index(['id', 'scrape_id', 'last_scraped', 'name', 'description',\n",
       "       'neighborhood_overview', 'host_id', 'host_name', 'host_since',\n",
       "       'host_location', 'host_about', 'host_response_time',\n",
       "       'host_response_rate', 'host_acceptance_rate', 'host_is_superhost',\n",
       "       'host_neighbourhood', 'host_listings_count',\n",
       "       'host_total_listings_count', 'host_verifications',\n",
       "       'host_has_profile_pic', 'host_identity_verified', 'neighbourhood',\n",
       "       'neighbourhood_cleansed', 'neighbourhood_group_cleansed', 'latitude',\n",
       "       'longitude', 'property_type', 'room_type', 'accommodates', 'bathrooms',\n",
       "       'bathrooms_text', 'bedrooms', 'beds', 'amenities', 'price',\n",
       "       'minimum_nights', 'maximum_nights', 'minimum_minimum_nights',\n",
       "       'maximum_minimum_nights', 'minimum_maximum_nights',\n",
       "       'maximum_maximum_nights', 'minimum_nights_avg_ntm',\n",
       "       'maximum_nights_avg_ntm', 'calendar_updated', 'has_availability',\n",
       "       'availability_30', 'availability_60', 'availability_90',\n",
       "       'availability_365', 'calendar_last_scraped', 'number_of_reviews',\n",
       "       'number_of_reviews_ltm', 'number_of_reviews_l30d', 'first_review',\n",
       "       'last_review', 'review_scores_rating', 'review_scores_accuracy',\n",
       "       'review_scores_cleanliness', 'review_scores_checkin',\n",
       "       'review_scores_communication', 'review_scores_location',\n",
       "       'review_scores_value', 'license', 'instant_bookable',\n",
       "       'calculated_host_listings_count',\n",
       "       'calculated_host_listings_count_entire_homes',\n",
       "       'calculated_host_listings_count_private_rooms',\n",
       "       'calculated_host_listings_count_shared_rooms', 'reviews_per_month'],\n",
       "      dtype='object')"
      ]
     },
     "execution_count": 16,
     "metadata": {},
     "output_type": "execute_result"
    }
   ],
   "source": [
    "# YOUR CODE HERE\n",
    "df.drop(url_colnames, inplace = True, axis = 1)\n",
    "df.columns"
   ]
  },
  {
   "cell_type": "markdown",
   "metadata": {},
   "source": [
    "**Task**: Display the shape of the data to verify that the new number of columns is what you expected."
   ]
  },
  {
   "cell_type": "code",
   "execution_count": 17,
   "metadata": {},
   "outputs": [
    {
     "data": {
      "text/plain": [
       "(38277, 69)"
      ]
     },
     "execution_count": 17,
     "metadata": {},
     "output_type": "execute_result"
    }
   ],
   "source": [
    "# YOUR CODE HERE\n",
    "df.shape"
   ]
  },
  {
   "cell_type": "markdown",
   "metadata": {},
   "source": [
    "**Task**: In the code cell below, display the features that we will use to solve our ML problem."
   ]
  },
  {
   "cell_type": "code",
   "execution_count": 18,
   "metadata": {},
   "outputs": [
    {
     "data": {
      "text/plain": [
       "['id',\n",
       " 'scrape_id',\n",
       " 'last_scraped',\n",
       " 'name',\n",
       " 'description',\n",
       " 'neighborhood_overview',\n",
       " 'host_id',\n",
       " 'host_name',\n",
       " 'host_since',\n",
       " 'host_location',\n",
       " 'host_about',\n",
       " 'host_response_time',\n",
       " 'host_response_rate',\n",
       " 'host_acceptance_rate',\n",
       " 'host_is_superhost',\n",
       " 'host_neighbourhood',\n",
       " 'host_listings_count',\n",
       " 'host_total_listings_count',\n",
       " 'host_verifications',\n",
       " 'host_has_profile_pic',\n",
       " 'host_identity_verified',\n",
       " 'neighbourhood',\n",
       " 'neighbourhood_cleansed',\n",
       " 'neighbourhood_group_cleansed',\n",
       " 'latitude',\n",
       " 'longitude',\n",
       " 'property_type',\n",
       " 'room_type',\n",
       " 'accommodates',\n",
       " 'bathrooms',\n",
       " 'bathrooms_text',\n",
       " 'bedrooms',\n",
       " 'beds',\n",
       " 'amenities',\n",
       " 'minimum_nights',\n",
       " 'maximum_nights',\n",
       " 'minimum_minimum_nights',\n",
       " 'maximum_minimum_nights',\n",
       " 'minimum_maximum_nights',\n",
       " 'maximum_maximum_nights',\n",
       " 'minimum_nights_avg_ntm',\n",
       " 'maximum_nights_avg_ntm',\n",
       " 'calendar_updated',\n",
       " 'has_availability',\n",
       " 'availability_30',\n",
       " 'availability_60',\n",
       " 'availability_90',\n",
       " 'availability_365',\n",
       " 'calendar_last_scraped',\n",
       " 'number_of_reviews',\n",
       " 'number_of_reviews_ltm',\n",
       " 'number_of_reviews_l30d',\n",
       " 'first_review',\n",
       " 'last_review',\n",
       " 'review_scores_rating',\n",
       " 'review_scores_accuracy',\n",
       " 'review_scores_cleanliness',\n",
       " 'review_scores_checkin',\n",
       " 'review_scores_communication',\n",
       " 'review_scores_location',\n",
       " 'review_scores_value',\n",
       " 'license',\n",
       " 'instant_bookable',\n",
       " 'calculated_host_listings_count',\n",
       " 'calculated_host_listings_count_entire_homes',\n",
       " 'calculated_host_listings_count_private_rooms',\n",
       " 'calculated_host_listings_count_shared_rooms',\n",
       " 'reviews_per_month']"
      ]
     },
     "execution_count": 18,
     "metadata": {},
     "output_type": "execute_result"
    }
   ],
   "source": [
    "# YOUR CODE HERE\n",
    "display_colnames = [i for i in df.columns if 'price' not in i]\n",
    "display_colnames"
   ]
  },
  {
   "cell_type": "markdown",
   "metadata": {},
   "source": [
    "**Task**: Are there any other features that you think may not be well suited for our machine learning problem? Note your findings in the markdown cell below."
   ]
  },
  {
   "cell_type": "markdown",
   "metadata": {},
   "source": [
    "I think that the column names that include 'id' don't have to be included in our data when trying to solve our machine learning problem. To analyze the data and provide a working solution, we need data that is tangible and adds to the comprehensibility of the label (in this case 'price'). Id's seem to be more of a logistic value rather than data that adds to the conclusivity of the price."
   ]
  },
  {
   "cell_type": "markdown",
   "metadata": {},
   "source": [
    "## Part 2. Clean Your Data\n",
    "\n",
    "Let's now handle outliers and missing data."
   ]
  },
  {
   "cell_type": "markdown",
   "metadata": {},
   "source": [
    "### a. Handle Outliers\n",
    "\n",
    "Let us prepare the data in our label column. Namely, we will detect and replace outliers in the data using winsorization."
   ]
  },
  {
   "cell_type": "markdown",
   "metadata": {},
   "source": [
    "**Task**: Create a new version of the `price` column, named `label_price`, in which you will replace the top and bottom 1% outlier values with the corresponding percentile value. Add this new column to the DataFrame `df`."
   ]
  },
  {
   "cell_type": "markdown",
   "metadata": {},
   "source": [
    "Remember, you will first need to load the `stats` module from the `scipy` package:"
   ]
  },
  {
   "cell_type": "code",
   "execution_count": 19,
   "metadata": {},
   "outputs": [],
   "source": [
    "# YOUR CODE HERE \n",
    "import scipy.stats as stats\n",
    "\n",
    "label_price = stats.mstats.winsorize(df['price'], limits=[0.01, 0.01]) \n",
    "df['label_price'] = label_price"
   ]
  },
  {
   "cell_type": "markdown",
   "metadata": {},
   "source": [
    "Let's verify that the new column `label_price` was added to DataFrame `df`:"
   ]
  },
  {
   "cell_type": "code",
   "execution_count": 20,
   "metadata": {},
   "outputs": [
    {
     "data": {
      "text/html": [
       "<div>\n",
       "<style scoped>\n",
       "    .dataframe tbody tr th:only-of-type {\n",
       "        vertical-align: middle;\n",
       "    }\n",
       "\n",
       "    .dataframe tbody tr th {\n",
       "        vertical-align: top;\n",
       "    }\n",
       "\n",
       "    .dataframe thead th {\n",
       "        text-align: right;\n",
       "    }\n",
       "</style>\n",
       "<table border=\"1\" class=\"dataframe\">\n",
       "  <thead>\n",
       "    <tr style=\"text-align: right;\">\n",
       "      <th></th>\n",
       "      <th>id</th>\n",
       "      <th>scrape_id</th>\n",
       "      <th>last_scraped</th>\n",
       "      <th>name</th>\n",
       "      <th>description</th>\n",
       "      <th>neighborhood_overview</th>\n",
       "      <th>host_id</th>\n",
       "      <th>host_name</th>\n",
       "      <th>host_since</th>\n",
       "      <th>host_location</th>\n",
       "      <th>...</th>\n",
       "      <th>review_scores_location</th>\n",
       "      <th>review_scores_value</th>\n",
       "      <th>license</th>\n",
       "      <th>instant_bookable</th>\n",
       "      <th>calculated_host_listings_count</th>\n",
       "      <th>calculated_host_listings_count_entire_homes</th>\n",
       "      <th>calculated_host_listings_count_private_rooms</th>\n",
       "      <th>calculated_host_listings_count_shared_rooms</th>\n",
       "      <th>reviews_per_month</th>\n",
       "      <th>label_price</th>\n",
       "    </tr>\n",
       "  </thead>\n",
       "  <tbody>\n",
       "    <tr>\n",
       "      <th>0</th>\n",
       "      <td>2595</td>\n",
       "      <td>20211204143024</td>\n",
       "      <td>2021-12-05</td>\n",
       "      <td>Skylit Midtown Castle</td>\n",
       "      <td>Beautiful, spacious skylit studio in the heart...</td>\n",
       "      <td>Centrally located in the heart of Manhattan ju...</td>\n",
       "      <td>2845</td>\n",
       "      <td>Jennifer</td>\n",
       "      <td>2008-09-09</td>\n",
       "      <td>New York, New York, United States</td>\n",
       "      <td>...</td>\n",
       "      <td>4.86</td>\n",
       "      <td>4.41</td>\n",
       "      <td>NaN</td>\n",
       "      <td>f</td>\n",
       "      <td>3</td>\n",
       "      <td>3</td>\n",
       "      <td>0</td>\n",
       "      <td>0</td>\n",
       "      <td>0.33</td>\n",
       "      <td>150.0</td>\n",
       "    </tr>\n",
       "    <tr>\n",
       "      <th>1</th>\n",
       "      <td>3831</td>\n",
       "      <td>20211204143024</td>\n",
       "      <td>2021-12-05</td>\n",
       "      <td>Whole flr w/private bdrm, bath &amp; kitchen(pls r...</td>\n",
       "      <td>Enjoy 500 s.f. top floor in 1899 brownstone, w...</td>\n",
       "      <td>Just the right mix of urban center and local n...</td>\n",
       "      <td>4869</td>\n",
       "      <td>LisaRoxanne</td>\n",
       "      <td>2008-12-07</td>\n",
       "      <td>New York, New York, United States</td>\n",
       "      <td>...</td>\n",
       "      <td>4.71</td>\n",
       "      <td>4.64</td>\n",
       "      <td>NaN</td>\n",
       "      <td>f</td>\n",
       "      <td>1</td>\n",
       "      <td>1</td>\n",
       "      <td>0</td>\n",
       "      <td>0</td>\n",
       "      <td>4.86</td>\n",
       "      <td>75.0</td>\n",
       "    </tr>\n",
       "    <tr>\n",
       "      <th>2</th>\n",
       "      <td>5121</td>\n",
       "      <td>20211204143024</td>\n",
       "      <td>2021-12-05</td>\n",
       "      <td>BlissArtsSpace!</td>\n",
       "      <td>&lt;b&gt;The space&lt;/b&gt;&lt;br /&gt;HELLO EVERYONE AND THANK...</td>\n",
       "      <td>NaN</td>\n",
       "      <td>7356</td>\n",
       "      <td>Garon</td>\n",
       "      <td>2009-02-03</td>\n",
       "      <td>New York, New York, United States</td>\n",
       "      <td>...</td>\n",
       "      <td>4.47</td>\n",
       "      <td>4.52</td>\n",
       "      <td>NaN</td>\n",
       "      <td>f</td>\n",
       "      <td>2</td>\n",
       "      <td>0</td>\n",
       "      <td>2</td>\n",
       "      <td>0</td>\n",
       "      <td>0.52</td>\n",
       "      <td>60.0</td>\n",
       "    </tr>\n",
       "    <tr>\n",
       "      <th>3</th>\n",
       "      <td>5136</td>\n",
       "      <td>20211204143024</td>\n",
       "      <td>2021-12-05</td>\n",
       "      <td>Spacious Brooklyn Duplex, Patio + Garden</td>\n",
       "      <td>We welcome you to stay in our lovely 2 br dupl...</td>\n",
       "      <td>NaN</td>\n",
       "      <td>7378</td>\n",
       "      <td>Rebecca</td>\n",
       "      <td>2009-02-03</td>\n",
       "      <td>Brooklyn, New York, United States</td>\n",
       "      <td>...</td>\n",
       "      <td>4.50</td>\n",
       "      <td>5.00</td>\n",
       "      <td>NaN</td>\n",
       "      <td>f</td>\n",
       "      <td>1</td>\n",
       "      <td>1</td>\n",
       "      <td>0</td>\n",
       "      <td>0</td>\n",
       "      <td>0.02</td>\n",
       "      <td>275.0</td>\n",
       "    </tr>\n",
       "    <tr>\n",
       "      <th>4</th>\n",
       "      <td>5178</td>\n",
       "      <td>20211204143024</td>\n",
       "      <td>2021-12-05</td>\n",
       "      <td>Large Furnished Room Near B'way</td>\n",
       "      <td>Please don’t expect the luxury here just a bas...</td>\n",
       "      <td>Theater district, many restaurants around here.</td>\n",
       "      <td>8967</td>\n",
       "      <td>Shunichi</td>\n",
       "      <td>2009-03-03</td>\n",
       "      <td>New York, New York, United States</td>\n",
       "      <td>...</td>\n",
       "      <td>4.87</td>\n",
       "      <td>4.36</td>\n",
       "      <td>NaN</td>\n",
       "      <td>f</td>\n",
       "      <td>1</td>\n",
       "      <td>0</td>\n",
       "      <td>1</td>\n",
       "      <td>0</td>\n",
       "      <td>3.68</td>\n",
       "      <td>68.0</td>\n",
       "    </tr>\n",
       "  </tbody>\n",
       "</table>\n",
       "<p>5 rows × 70 columns</p>\n",
       "</div>"
      ],
      "text/plain": [
       "     id       scrape_id last_scraped  \\\n",
       "0  2595  20211204143024   2021-12-05   \n",
       "1  3831  20211204143024   2021-12-05   \n",
       "2  5121  20211204143024   2021-12-05   \n",
       "3  5136  20211204143024   2021-12-05   \n",
       "4  5178  20211204143024   2021-12-05   \n",
       "\n",
       "                                                name  \\\n",
       "0                              Skylit Midtown Castle   \n",
       "1  Whole flr w/private bdrm, bath & kitchen(pls r...   \n",
       "2                                    BlissArtsSpace!   \n",
       "3           Spacious Brooklyn Duplex, Patio + Garden   \n",
       "4                   Large Furnished Room Near B'way　   \n",
       "\n",
       "                                         description  \\\n",
       "0  Beautiful, spacious skylit studio in the heart...   \n",
       "1  Enjoy 500 s.f. top floor in 1899 brownstone, w...   \n",
       "2  <b>The space</b><br />HELLO EVERYONE AND THANK...   \n",
       "3  We welcome you to stay in our lovely 2 br dupl...   \n",
       "4  Please don’t expect the luxury here just a bas...   \n",
       "\n",
       "                               neighborhood_overview  host_id    host_name  \\\n",
       "0  Centrally located in the heart of Manhattan ju...     2845     Jennifer   \n",
       "1  Just the right mix of urban center and local n...     4869  LisaRoxanne   \n",
       "2                                                NaN     7356        Garon   \n",
       "3                                                NaN     7378      Rebecca   \n",
       "4    Theater district, many restaurants around here.     8967     Shunichi   \n",
       "\n",
       "   host_since                      host_location  ... review_scores_location  \\\n",
       "0  2008-09-09  New York, New York, United States  ...                   4.86   \n",
       "1  2008-12-07  New York, New York, United States  ...                   4.71   \n",
       "2  2009-02-03  New York, New York, United States  ...                   4.47   \n",
       "3  2009-02-03  Brooklyn, New York, United States  ...                   4.50   \n",
       "4  2009-03-03  New York, New York, United States  ...                   4.87   \n",
       "\n",
       "  review_scores_value license instant_bookable calculated_host_listings_count  \\\n",
       "0                4.41     NaN                f                              3   \n",
       "1                4.64     NaN                f                              1   \n",
       "2                4.52     NaN                f                              2   \n",
       "3                5.00     NaN                f                              1   \n",
       "4                4.36     NaN                f                              1   \n",
       "\n",
       "  calculated_host_listings_count_entire_homes  \\\n",
       "0                                           3   \n",
       "1                                           1   \n",
       "2                                           0   \n",
       "3                                           1   \n",
       "4                                           0   \n",
       "\n",
       "   calculated_host_listings_count_private_rooms  \\\n",
       "0                                             0   \n",
       "1                                             0   \n",
       "2                                             2   \n",
       "3                                             0   \n",
       "4                                             1   \n",
       "\n",
       "   calculated_host_listings_count_shared_rooms reviews_per_month label_price  \n",
       "0                                            0              0.33       150.0  \n",
       "1                                            0              4.86        75.0  \n",
       "2                                            0              0.52        60.0  \n",
       "3                                            0              0.02       275.0  \n",
       "4                                            0              3.68        68.0  \n",
       "\n",
       "[5 rows x 70 columns]"
      ]
     },
     "execution_count": 20,
     "metadata": {},
     "output_type": "execute_result"
    }
   ],
   "source": [
    "df.head()"
   ]
  },
  {
   "cell_type": "markdown",
   "metadata": {},
   "source": [
    "**Task**: Check that the values of `price` and `label_price` are *not* identical. \n",
    "\n",
    "You will do this by subtracting the two columns and finding the resulting *unique values*  of the resulting difference. <br>Note: If all values are identical, the difference would not contain unique values. If this is the case, outlier removal did not work."
   ]
  },
  {
   "cell_type": "code",
   "execution_count": 21,
   "metadata": {},
   "outputs": [
    {
     "name": "stdout",
     "output_type": "stream",
     "text": [
      "1500.0\n",
      "300.0\n",
      "1000.0\n",
      "1500.0\n",
      "1979.0\n",
      "-1.0\n",
      "899.0\n",
      "200.0\n",
      "999.0\n",
      "500.0\n",
      "-8.0\n",
      "5000.0\n",
      "1000.0\n",
      "500.0\n",
      "500.0\n",
      "200.0\n",
      "4250.0\n",
      "500.0\n",
      "550.0\n",
      "250.0\n",
      "5500.0\n",
      "1750.0\n",
      "2750.0\n",
      "600.0\n",
      "-11.0\n",
      "-1.0\n",
      "1249.0\n",
      "-1.0\n",
      "433.0\n",
      "57.0\n",
      "393.0\n",
      "-4.0\n",
      "400.0\n",
      "1695.0\n",
      "8990.0\n",
      "500.0\n",
      "214.0\n",
      "-14.0\n",
      "8999.0\n",
      "763.0\n",
      "-2.0\n",
      "-1.0\n",
      "500.0\n",
      "1500.0\n",
      "1000.0\n",
      "-9.0\n",
      "243.0\n",
      "100.0\n",
      "64.0\n",
      "600.0\n",
      "2974.0\n",
      "-1.0\n",
      "77.0\n",
      "-3.0\n",
      "-2.0\n",
      "-7.0\n",
      "350.0\n",
      "600.0\n",
      "-1.0\n",
      "-1.0\n",
      "245.0\n",
      "81.0\n",
      "-4.0\n",
      "571.0\n",
      "-4.0\n",
      "-4.0\n",
      "-4.0\n",
      "6314.0\n",
      "-1.0\n",
      "-3.0\n",
      "-5.0\n",
      "200.0\n",
      "100.0\n",
      "-10.0\n",
      "-4.0\n",
      "2.0\n",
      "-5.0\n",
      "-9.0\n",
      "-9.0\n",
      "-2.0\n",
      "99.0\n",
      "1200.0\n",
      "-1.0\n",
      "430.0\n",
      "1100.0\n",
      "300.0\n",
      "85.0\n",
      "-3.0\n",
      "4000.0\n",
      "-8.0\n",
      "-1.0\n",
      "350.0\n",
      "-4.0\n",
      "5000.0\n",
      "300.0\n",
      "250.0\n",
      "250.0\n",
      "100.0\n",
      "1000.0\n",
      "-10.0\n",
      "-4.0\n",
      "100.0\n",
      "-4.0\n",
      "-11.0\n",
      "-4.0\n",
      "-2.0\n",
      "-4.0\n",
      "-7.0\n",
      "-4.0\n",
      "9000.0\n",
      "500.0\n",
      "1350.0\n",
      "-3.0\n",
      "50.0\n",
      "-2.0\n",
      "-8.0\n",
      "1500.0\n",
      "1500.0\n",
      "500.0\n",
      "2000.0\n",
      "1299.0\n",
      "143.0\n",
      "1000.0\n",
      "-4.0\n",
      "1499.0\n",
      "370.0\n",
      "-19.0\n",
      "-4.0\n",
      "-19.0\n",
      "-9.0\n",
      "6184.0\n",
      "-7.0\n",
      "-1.0\n",
      "-4.0\n",
      "-7.0\n",
      "-4.0\n",
      "-13.0\n",
      "-8.0\n",
      "221.0\n",
      "1000.0\n",
      "-7.0\n",
      "-19.0\n",
      "1857.0\n",
      "-15.0\n",
      "900.0\n",
      "-3.0\n",
      "-4.0\n",
      "75.0\n",
      "-6.0\n",
      "643.0\n",
      "3929.0\n",
      "-1.0\n",
      "-2.0\n",
      "-2.0\n",
      "500.0\n",
      "-2.0\n",
      "-4.0\n",
      "-2.0\n",
      "291.0\n",
      "399.0\n",
      "8000.0\n",
      "5429.0\n",
      "3000.0\n",
      "-10.0\n",
      "-6.0\n",
      "-4.0\n",
      "-18.0\n",
      "-1.0\n",
      "5143.0\n",
      "-6.0\n",
      "-4.0\n",
      "-7.0\n",
      "-9.0\n",
      "-8.0\n",
      "200.0\n",
      "-5.0\n",
      "-2.0\n",
      "1400.0\n",
      "-6.0\n",
      "-8.0\n",
      "-13.0\n",
      "-7.0\n",
      "-4.0\n",
      "-7.0\n",
      "-10.0\n",
      "-1.0\n",
      "500.0\n",
      "9000.0\n",
      "-2.0\n",
      "-4.0\n",
      "-1.0\n",
      "-9.0\n",
      "-4.0\n",
      "-1.0\n",
      "-9.0\n",
      "9000.0\n",
      "-4.0\n",
      "250.0\n",
      "-3.0\n",
      "500.0\n",
      "1000.0\n",
      "1500.0\n",
      "-1.0\n",
      "-9.0\n",
      "-4.0\n",
      "1000.0\n",
      "-7.0\n",
      "1500.0\n",
      "-3.0\n",
      "475.0\n",
      "-5.0\n",
      "-1.0\n",
      "2214.0\n",
      "191.0\n",
      "425.0\n",
      "125.0\n",
      "333.0\n",
      "499.0\n",
      "1000.0\n",
      "-9.0\n",
      "100.0\n",
      "250.0\n",
      "-9.0\n",
      "-7.0\n",
      "800.0\n",
      "-19.0\n",
      "-14.0\n",
      "-2.0\n",
      "225.0\n",
      "200.0\n",
      "200.0\n",
      "550.0\n",
      "-3.0\n",
      "250.0\n",
      "-4.0\n",
      "1500.0\n",
      "2500.0\n",
      "2000.0\n",
      "819.0\n",
      "6000.0\n",
      "-9.0\n",
      "303.0\n",
      "307.0\n",
      "164.0\n",
      "-4.0\n",
      "342.0\n",
      "-14.0\n",
      "56.0\n",
      "-7.0\n",
      "500.0\n",
      "-4.0\n",
      "2600.0\n",
      "-4.0\n",
      "-3.0\n",
      "-4.0\n",
      "2200.0\n",
      "-2.0\n",
      "-7.0\n",
      "300.0\n",
      "-1.0\n",
      "570.0\n",
      "-7.0\n",
      "56.0\n",
      "1642.0\n",
      "-10.0\n",
      "-10.0\n",
      "-4.0\n",
      "9000.0\n",
      "-9.0\n",
      "-1.0\n",
      "-4.0\n",
      "-4.0\n",
      "-3.0\n",
      "-4.0\n",
      "-2.0\n",
      "500.0\n",
      "7.0\n",
      "981.0\n",
      "212.0\n",
      "-7.0\n",
      "1850.0\n",
      "-9.0\n",
      "-4.0\n",
      "100.0\n",
      "-4.0\n",
      "45.0\n",
      "-9.0\n",
      "300.0\n",
      "-7.0\n",
      "200.0\n",
      "-3.0\n",
      "307.0\n",
      "-1.0\n",
      "2000.0\n",
      "-5.0\n",
      "307.0\n",
      "451.0\n",
      "-9.0\n",
      "-2.0\n",
      "512.0\n",
      "236.0\n",
      "62.0\n",
      "102.0\n",
      "3000.0\n",
      "-1.0\n",
      "-1.0\n",
      "-4.0\n",
      "-4.0\n",
      "-4.0\n",
      "-9.0\n",
      "259.0\n",
      "750.0\n",
      "-3.0\n",
      "500.0\n",
      "-4.0\n",
      "400.0\n",
      "200.0\n",
      "-1.0\n",
      "-4.0\n",
      "975.0\n",
      "529.0\n",
      "2000.0\n",
      "296.0\n",
      "50.0\n",
      "5500.0\n",
      "-3.0\n",
      "-1.0\n",
      "-8.0\n",
      "-1.0\n",
      "-3.0\n",
      "1100.0\n",
      "-1.0\n",
      "250.0\n",
      "300.0\n",
      "950.0\n",
      "1600.0\n",
      "-2.0\n",
      "-10.0\n",
      "-4.0\n",
      "-1.0\n",
      "-10.0\n",
      "9000.0\n",
      "9000.0\n",
      "9000.0\n",
      "9000.0\n",
      "-2.0\n",
      "9000.0\n",
      "-4.0\n",
      "225.0\n",
      "-9.0\n",
      "-4.0\n",
      "-4.0\n",
      "-19.0\n",
      "250.0\n",
      "-4.0\n",
      "-1.0\n",
      "275.0\n",
      "464.0\n",
      "9000.0\n",
      "500.0\n",
      "-4.0\n",
      "257.0\n",
      "-1.0\n",
      "275.0\n",
      "100.0\n",
      "-29.0\n",
      "-4.0\n",
      "-2.0\n",
      "-4.0\n",
      "-4.0\n",
      "-2.0\n",
      "1850.0\n",
      "-1.0\n",
      "57.0\n",
      "-7.0\n",
      "-17.0\n",
      "95.0\n",
      "285.0\n",
      "-2.0\n",
      "3382.0\n",
      "1839.0\n",
      "1261.0\n",
      "500.0\n",
      "-6.0\n",
      "29.0\n",
      "600.0\n",
      "-29.0\n",
      "-29.0\n",
      "-9.0\n",
      "-29.0\n",
      "-2.0\n",
      "-7.0\n",
      "226.0\n",
      "-29.0\n",
      "-29.0\n",
      "-29.0\n",
      "-29.0\n",
      "-29.0\n",
      "-29.0\n",
      "-29.0\n",
      "-4.0\n",
      "113.0\n",
      "200.0\n",
      "-29.0\n",
      "9.0\n",
      "-29.0\n",
      "-29.0\n",
      "-29.0\n",
      "250.0\n",
      "100.0\n",
      "-1.0\n",
      "-9.0\n",
      "-4.0\n",
      "-2.0\n",
      "-1.0\n",
      "-4.0\n",
      "216.0\n",
      "116.0\n",
      "-1.0\n",
      "-1.0\n",
      "-4.0\n",
      "-12.0\n",
      "550.0\n",
      "-11.0\n",
      "-29.0\n",
      "-4.0\n",
      "8999.0\n",
      "-29.0\n",
      "2000.0\n",
      "-29.0\n",
      "-29.0\n",
      "1000.0\n",
      "143.0\n",
      "495.0\n",
      "-29.0\n",
      "-29.0\n",
      "-29.0\n",
      "-29.0\n",
      "-29.0\n",
      "-6.0\n",
      "-4.0\n",
      "-3.0\n",
      "-1.0\n",
      "-1.0\n",
      "-2.0\n",
      "-1.0\n",
      "25.0\n",
      "-2.0\n",
      "214.0\n",
      "-4.0\n",
      "-1.0\n",
      "500.0\n",
      "250.0\n",
      "-2.0\n",
      "-4.0\n",
      "-4.0\n",
      "-1.0\n",
      "-1.0\n",
      "1850.0\n",
      "-1.0\n",
      "500.0\n",
      "1600.0\n",
      "286.0\n",
      "-1.0\n",
      "500.0\n",
      "-29.0\n",
      "-1.0\n",
      "2557.0\n",
      "1614.0\n",
      "71.0\n",
      "-29.0\n",
      "-4.0\n",
      "54.0\n",
      "400.0\n",
      "-18.0\n",
      "575.0\n",
      "-4.0\n",
      "1000.0\n",
      "1200.0\n",
      "-4.0\n",
      "2500.0\n",
      "-29.0\n",
      "-6.0\n",
      "400.0\n",
      "-29.0\n",
      "-1.0\n",
      "-2.0\n",
      "-6.0\n",
      "-29.0\n",
      "4000.0\n",
      "-29.0\n",
      "-4.0\n",
      "500.0\n",
      "85.0\n",
      "999.0\n",
      "500.0\n",
      "1700.0\n",
      "529.0\n",
      "-29.0\n",
      "-29.0\n",
      "24.0\n",
      "17.0\n",
      "114.0\n",
      "-1.0\n",
      "-1.0\n",
      "-1.0\n",
      "500.0\n",
      "500.0\n",
      "950.0\n",
      "-4.0\n",
      "-1.0\n",
      "-1.0\n",
      "290.0\n",
      "800.0\n",
      "-3.0\n",
      "-9.0\n",
      "-11.0\n",
      "-2.0\n",
      "299.0\n",
      "250.0\n",
      "-19.0\n",
      "995.0\n",
      "500.0\n",
      "1500.0\n",
      "-29.0\n",
      "-4.0\n",
      "-1.0\n",
      "-2.0\n",
      "-3.0\n",
      "-29.0\n",
      "400.0\n",
      "-6.0\n",
      "-2.0\n",
      "-1.0\n",
      "-1.0\n",
      "-29.0\n",
      "-1.0\n",
      "-3.0\n",
      "-1.0\n",
      "-1.0\n",
      "236.0\n",
      "176.0\n",
      "-1.0\n",
      "-5.0\n",
      "200.0\n",
      "500.0\n",
      "25.0\n",
      "830.0\n",
      "2520.0\n",
      "865.0\n",
      "67.0\n",
      "1797.0\n",
      "2729.0\n",
      "760.0\n",
      "1640.0\n",
      "686.0\n",
      "-3.0\n",
      "249.0\n",
      "100.0\n",
      "-19.0\n",
      "-4.0\n",
      "2500.0\n",
      "800.0\n",
      "373.0\n",
      "-9.0\n",
      "-2.0\n",
      "-3.0\n",
      "-5.0\n",
      "400.0\n",
      "25.0\n",
      "55.0\n",
      "-7.0\n",
      "-2.0\n",
      "-19.0\n",
      "742.0\n",
      "100.0\n",
      "-1.0\n",
      "-1.0\n",
      "-2.0\n",
      "-3.0\n",
      "-4.0\n",
      "300.0\n",
      "499.0\n",
      "-2.0\n",
      "-5.0\n",
      "292.0\n",
      "1436.0\n",
      "386.0\n",
      "357.0\n",
      "474.0\n",
      "2333.0\n",
      "11.0\n",
      "-29.0\n",
      "499.0\n",
      "200.0\n",
      "4000.0\n",
      "14.0\n",
      "125.0\n",
      "-1.0\n",
      "1000.0\n",
      "-19.0\n",
      "1000.0\n",
      "3143.0\n",
      "450.0\n",
      "500.0\n",
      "83.0\n",
      "-5.0\n",
      "199.0\n",
      "856.0\n",
      "800.0\n",
      "200.0\n",
      "-1.0\n",
      "137.0\n",
      "76.0\n",
      "-7.0\n",
      "-3.0\n",
      "129.0\n",
      "57.0\n",
      "1100.0\n",
      "800.0\n",
      "1500.0\n",
      "654.0\n",
      "-1.0\n",
      "34.0\n",
      "369.0\n",
      "817.0\n",
      "479.0\n",
      "897.0\n",
      "314.0\n",
      "332.0\n",
      "314.0\n",
      "282.0\n",
      "109.0\n",
      "126.0\n",
      "109.0\n",
      "149.0\n",
      "149.0\n",
      "149.0\n",
      "211.0\n",
      "2500.0\n",
      "-4.0\n",
      "1000.0\n",
      "1232.0\n",
      "3464.0\n",
      "2119.0\n",
      "1000.0\n",
      "8999.0\n",
      "200.0\n",
      "331.0\n",
      "565.0\n",
      "1071.0\n",
      "1499.0\n",
      "2500.0\n",
      "-1.0\n",
      "1000.0\n",
      "-3.0\n",
      "-6.0\n",
      "-2.0\n",
      "2855.0\n",
      "1000.0\n",
      "-5.0\n",
      "-2.0\n",
      "-7.0\n",
      "-2.0\n",
      "1050.0\n",
      "1157.0\n",
      "-6.0\n",
      "500.0\n",
      "-5.0\n",
      "-5.0\n",
      "-4.0\n",
      "-5.0\n",
      "-5.0\n",
      "-4.0\n",
      "-5.0\n",
      "-3.0\n",
      "1600.0\n",
      "-2.0\n",
      "-1.0\n",
      "4655.0\n",
      "980.0\n",
      "-4.0\n",
      "1000.0\n",
      "200.0\n"
     ]
    }
   ],
   "source": [
    "# YOUR CODE HERE\n",
    "unique_values = df['price'] - df['label_price']\n",
    "for i in unique_values:\n",
    "    if i != 0: print(i)"
   ]
  },
  {
   "cell_type": "markdown",
   "metadata": {},
   "source": [
    "### b. Handle Missing Data\n",
    "\n",
    "Next we are going to find missing values in our entire dataset and impute the missing values by\n",
    "replace them with means."
   ]
  },
  {
   "cell_type": "markdown",
   "metadata": {},
   "source": [
    "#### Identifying missingness"
   ]
  },
  {
   "cell_type": "markdown",
   "metadata": {},
   "source": [
    "**Task**: Check if a given value in the data is missing, and sum up the resulting values by columns. Save this sum to variable `nan_count`. Print the results."
   ]
  },
  {
   "cell_type": "code",
   "execution_count": 22,
   "metadata": {},
   "outputs": [
    {
     "data": {
      "text/plain": [
       "id                                                 0\n",
       "scrape_id                                          0\n",
       "last_scraped                                       0\n",
       "name                                              13\n",
       "description                                     1192\n",
       "                                                ... \n",
       "calculated_host_listings_count_entire_homes        0\n",
       "calculated_host_listings_count_private_rooms       0\n",
       "calculated_host_listings_count_shared_rooms        0\n",
       "reviews_per_month                               9504\n",
       "label_price                                        0\n",
       "Length: 70, dtype: int64"
      ]
     },
     "execution_count": 22,
     "metadata": {},
     "output_type": "execute_result"
    }
   ],
   "source": [
    "nan_count = np.sum(df.isnull(), axis = 0)# YOUR CODE HERE\n",
    "nan_count"
   ]
  },
  {
   "cell_type": "markdown",
   "metadata": {},
   "source": [
    "Those are more columns than we can eyeball! For this exercise, we don't care about the number of missing values -- we just want to get a list of columns that have *any* missing values.\n",
    "\n",
    "<b>Task</b>: From the variable `nan_count`, create a new series called `nan_detected` that contains `True` or `False` values that indicate whether the number of missing values is *not zero*:"
   ]
  },
  {
   "cell_type": "code",
   "execution_count": 23,
   "metadata": {},
   "outputs": [
    {
     "data": {
      "text/plain": [
       "id                                              False\n",
       "scrape_id                                       False\n",
       "last_scraped                                    False\n",
       "name                                             True\n",
       "description                                      True\n",
       "                                                ...  \n",
       "calculated_host_listings_count_entire_homes     False\n",
       "calculated_host_listings_count_private_rooms    False\n",
       "calculated_host_listings_count_shared_rooms     False\n",
       "reviews_per_month                                True\n",
       "label_price                                     False\n",
       "Length: 70, dtype: bool"
      ]
     },
     "execution_count": 23,
     "metadata": {},
     "output_type": "execute_result"
    }
   ],
   "source": [
    "nan_detected = nan_count != 0\n",
    "nan_detected"
   ]
  },
  {
   "cell_type": "markdown",
   "metadata": {},
   "source": [
    "Since replacing the missing values with the mean only makes sense for the columns that contain numerical values (and not for strings), let us create another condition: the *type* of the column must be `int` or `float`."
   ]
  },
  {
   "cell_type": "markdown",
   "metadata": {},
   "source": [
    "**Task**: Create a series that contains `True` if the type of the column is either `int64` or `float64`. Save the results to the variable `is_int_or_float`."
   ]
  },
  {
   "cell_type": "code",
   "execution_count": 24,
   "metadata": {},
   "outputs": [
    {
     "name": "stderr",
     "output_type": "stream",
     "text": [
      "/home/codio/.local/lib/python3.6/site-packages/pandas/core/computation/expressions.py:204: UserWarning: evaluating in Python space because the '+' operator is not supported by numexpr for the bool dtype, use '|' instead\n",
      "  f\"evaluating in Python space because the {repr(op_str)} \"\n"
     ]
    },
    {
     "data": {
      "text/plain": [
       "id                                               True\n",
       "scrape_id                                        True\n",
       "last_scraped                                    False\n",
       "name                                            False\n",
       "description                                     False\n",
       "                                                ...  \n",
       "calculated_host_listings_count_entire_homes      True\n",
       "calculated_host_listings_count_private_rooms     True\n",
       "calculated_host_listings_count_shared_rooms      True\n",
       "reviews_per_month                                True\n",
       "label_price                                      True\n",
       "Length: 70, dtype: bool"
      ]
     },
     "execution_count": 24,
     "metadata": {},
     "output_type": "execute_result"
    }
   ],
   "source": [
    "is_int_or_float1 = df.dtypes == 'float64'\n",
    "is_int_or_float2 = df.dtypes == 'int64'\n",
    "is_int_or_float = is_int_or_float1 + is_int_or_float2\n",
    "is_int_or_float"
   ]
  },
  {
   "cell_type": "markdown",
   "metadata": {},
   "source": [
    "<b>Task</b>: Combine the two binary series (`nan_detected` and `is_int_or_float`) into a new series named `to_impute`. It will contain the value `True` if a column contains missing values *and* is of type 'int' or 'float'"
   ]
  },
  {
   "cell_type": "code",
   "execution_count": 25,
   "metadata": {},
   "outputs": [
    {
     "data": {
      "text/plain": [
       "id                                              False\n",
       "scrape_id                                       False\n",
       "last_scraped                                    False\n",
       "name                                            False\n",
       "description                                     False\n",
       "                                                ...  \n",
       "calculated_host_listings_count_entire_homes     False\n",
       "calculated_host_listings_count_private_rooms    False\n",
       "calculated_host_listings_count_shared_rooms     False\n",
       "reviews_per_month                                True\n",
       "label_price                                     False\n",
       "Length: 70, dtype: bool"
      ]
     },
     "execution_count": 25,
     "metadata": {},
     "output_type": "execute_result"
    }
   ],
   "source": [
    "to_impute = nan_detected & is_int_or_float # YOUR CODE HERE\n",
    "to_impute"
   ]
  },
  {
   "cell_type": "markdown",
   "metadata": {},
   "source": [
    "Finally, let's display a list that contains just the selected column names contained in `to_impute`:"
   ]
  },
  {
   "cell_type": "code",
   "execution_count": 26,
   "metadata": {},
   "outputs": [
    {
     "data": {
      "text/plain": [
       "Index(['host_listings_count', 'host_total_listings_count', 'bathrooms',\n",
       "       'bedrooms', 'beds', 'minimum_minimum_nights', 'maximum_minimum_nights',\n",
       "       'minimum_maximum_nights', 'maximum_maximum_nights',\n",
       "       'minimum_nights_avg_ntm', 'maximum_nights_avg_ntm', 'calendar_updated',\n",
       "       'review_scores_rating', 'review_scores_accuracy',\n",
       "       'review_scores_cleanliness', 'review_scores_checkin',\n",
       "       'review_scores_communication', 'review_scores_location',\n",
       "       'review_scores_value', 'reviews_per_month'],\n",
       "      dtype='object')"
      ]
     },
     "execution_count": 26,
     "metadata": {},
     "output_type": "execute_result"
    }
   ],
   "source": [
    "df.columns[to_impute]"
   ]
  },
  {
   "cell_type": "markdown",
   "metadata": {},
   "source": [
    "We just identified and displayed the list of candidate columns for potentially replacing missing values with the column mean."
   ]
  },
  {
   "cell_type": "markdown",
   "metadata": {},
   "source": [
    "Assume that you have decided that you should impute the values for these specific columns: `host_listings_count`, `host_total_listings_count`, `bathrooms`, `bedrooms`, and `beds`:"
   ]
  },
  {
   "cell_type": "code",
   "execution_count": 27,
   "metadata": {},
   "outputs": [],
   "source": [
    "to_impute_selected = ['host_listings_count', 'host_total_listings_count', 'bathrooms',\n",
    "       'bedrooms', 'beds']"
   ]
  },
  {
   "cell_type": "markdown",
   "metadata": {},
   "source": [
    "#### Keeping record of the missingness: creating dummy variables "
   ]
  },
  {
   "cell_type": "markdown",
   "metadata": {},
   "source": [
    "As a first step, you will now create dummy variables indicating the missingness of the values."
   ]
  },
  {
   "cell_type": "markdown",
   "metadata": {},
   "source": [
    "**Task**: For every column listed in `to_impute_selected`, create a new corresponding column called `<original-column-name>_na`. These columns should contain the a `True`or `False` value in place of `NaN`."
   ]
  },
  {
   "cell_type": "code",
   "execution_count": 28,
   "metadata": {},
   "outputs": [],
   "source": [
    "# YOUR CODE HERE \n",
    "for i in to_impute_selected:\n",
    "    df[i+'_na'] = np.where(df[i]==np.nan,True,False)"
   ]
  },
  {
   "cell_type": "markdown",
   "metadata": {},
   "source": [
    "Check that the DataFrame contains the new variables:"
   ]
  },
  {
   "cell_type": "code",
   "execution_count": 29,
   "metadata": {},
   "outputs": [
    {
     "data": {
      "text/html": [
       "<div>\n",
       "<style scoped>\n",
       "    .dataframe tbody tr th:only-of-type {\n",
       "        vertical-align: middle;\n",
       "    }\n",
       "\n",
       "    .dataframe tbody tr th {\n",
       "        vertical-align: top;\n",
       "    }\n",
       "\n",
       "    .dataframe thead th {\n",
       "        text-align: right;\n",
       "    }\n",
       "</style>\n",
       "<table border=\"1\" class=\"dataframe\">\n",
       "  <thead>\n",
       "    <tr style=\"text-align: right;\">\n",
       "      <th></th>\n",
       "      <th>id</th>\n",
       "      <th>scrape_id</th>\n",
       "      <th>last_scraped</th>\n",
       "      <th>name</th>\n",
       "      <th>description</th>\n",
       "      <th>neighborhood_overview</th>\n",
       "      <th>host_id</th>\n",
       "      <th>host_name</th>\n",
       "      <th>host_since</th>\n",
       "      <th>host_location</th>\n",
       "      <th>...</th>\n",
       "      <th>calculated_host_listings_count_entire_homes</th>\n",
       "      <th>calculated_host_listings_count_private_rooms</th>\n",
       "      <th>calculated_host_listings_count_shared_rooms</th>\n",
       "      <th>reviews_per_month</th>\n",
       "      <th>label_price</th>\n",
       "      <th>host_listings_count_na</th>\n",
       "      <th>host_total_listings_count_na</th>\n",
       "      <th>bathrooms_na</th>\n",
       "      <th>bedrooms_na</th>\n",
       "      <th>beds_na</th>\n",
       "    </tr>\n",
       "  </thead>\n",
       "  <tbody>\n",
       "    <tr>\n",
       "      <th>0</th>\n",
       "      <td>2595</td>\n",
       "      <td>20211204143024</td>\n",
       "      <td>2021-12-05</td>\n",
       "      <td>Skylit Midtown Castle</td>\n",
       "      <td>Beautiful, spacious skylit studio in the heart...</td>\n",
       "      <td>Centrally located in the heart of Manhattan ju...</td>\n",
       "      <td>2845</td>\n",
       "      <td>Jennifer</td>\n",
       "      <td>2008-09-09</td>\n",
       "      <td>New York, New York, United States</td>\n",
       "      <td>...</td>\n",
       "      <td>3</td>\n",
       "      <td>0</td>\n",
       "      <td>0</td>\n",
       "      <td>0.33</td>\n",
       "      <td>150.0</td>\n",
       "      <td>False</td>\n",
       "      <td>False</td>\n",
       "      <td>False</td>\n",
       "      <td>False</td>\n",
       "      <td>False</td>\n",
       "    </tr>\n",
       "    <tr>\n",
       "      <th>1</th>\n",
       "      <td>3831</td>\n",
       "      <td>20211204143024</td>\n",
       "      <td>2021-12-05</td>\n",
       "      <td>Whole flr w/private bdrm, bath &amp; kitchen(pls r...</td>\n",
       "      <td>Enjoy 500 s.f. top floor in 1899 brownstone, w...</td>\n",
       "      <td>Just the right mix of urban center and local n...</td>\n",
       "      <td>4869</td>\n",
       "      <td>LisaRoxanne</td>\n",
       "      <td>2008-12-07</td>\n",
       "      <td>New York, New York, United States</td>\n",
       "      <td>...</td>\n",
       "      <td>1</td>\n",
       "      <td>0</td>\n",
       "      <td>0</td>\n",
       "      <td>4.86</td>\n",
       "      <td>75.0</td>\n",
       "      <td>False</td>\n",
       "      <td>False</td>\n",
       "      <td>False</td>\n",
       "      <td>False</td>\n",
       "      <td>False</td>\n",
       "    </tr>\n",
       "    <tr>\n",
       "      <th>2</th>\n",
       "      <td>5121</td>\n",
       "      <td>20211204143024</td>\n",
       "      <td>2021-12-05</td>\n",
       "      <td>BlissArtsSpace!</td>\n",
       "      <td>&lt;b&gt;The space&lt;/b&gt;&lt;br /&gt;HELLO EVERYONE AND THANK...</td>\n",
       "      <td>NaN</td>\n",
       "      <td>7356</td>\n",
       "      <td>Garon</td>\n",
       "      <td>2009-02-03</td>\n",
       "      <td>New York, New York, United States</td>\n",
       "      <td>...</td>\n",
       "      <td>0</td>\n",
       "      <td>2</td>\n",
       "      <td>0</td>\n",
       "      <td>0.52</td>\n",
       "      <td>60.0</td>\n",
       "      <td>False</td>\n",
       "      <td>False</td>\n",
       "      <td>False</td>\n",
       "      <td>False</td>\n",
       "      <td>False</td>\n",
       "    </tr>\n",
       "    <tr>\n",
       "      <th>3</th>\n",
       "      <td>5136</td>\n",
       "      <td>20211204143024</td>\n",
       "      <td>2021-12-05</td>\n",
       "      <td>Spacious Brooklyn Duplex, Patio + Garden</td>\n",
       "      <td>We welcome you to stay in our lovely 2 br dupl...</td>\n",
       "      <td>NaN</td>\n",
       "      <td>7378</td>\n",
       "      <td>Rebecca</td>\n",
       "      <td>2009-02-03</td>\n",
       "      <td>Brooklyn, New York, United States</td>\n",
       "      <td>...</td>\n",
       "      <td>1</td>\n",
       "      <td>0</td>\n",
       "      <td>0</td>\n",
       "      <td>0.02</td>\n",
       "      <td>275.0</td>\n",
       "      <td>False</td>\n",
       "      <td>False</td>\n",
       "      <td>False</td>\n",
       "      <td>False</td>\n",
       "      <td>False</td>\n",
       "    </tr>\n",
       "    <tr>\n",
       "      <th>4</th>\n",
       "      <td>5178</td>\n",
       "      <td>20211204143024</td>\n",
       "      <td>2021-12-05</td>\n",
       "      <td>Large Furnished Room Near B'way</td>\n",
       "      <td>Please don’t expect the luxury here just a bas...</td>\n",
       "      <td>Theater district, many restaurants around here.</td>\n",
       "      <td>8967</td>\n",
       "      <td>Shunichi</td>\n",
       "      <td>2009-03-03</td>\n",
       "      <td>New York, New York, United States</td>\n",
       "      <td>...</td>\n",
       "      <td>0</td>\n",
       "      <td>1</td>\n",
       "      <td>0</td>\n",
       "      <td>3.68</td>\n",
       "      <td>68.0</td>\n",
       "      <td>False</td>\n",
       "      <td>False</td>\n",
       "      <td>False</td>\n",
       "      <td>False</td>\n",
       "      <td>False</td>\n",
       "    </tr>\n",
       "  </tbody>\n",
       "</table>\n",
       "<p>5 rows × 75 columns</p>\n",
       "</div>"
      ],
      "text/plain": [
       "     id       scrape_id last_scraped  \\\n",
       "0  2595  20211204143024   2021-12-05   \n",
       "1  3831  20211204143024   2021-12-05   \n",
       "2  5121  20211204143024   2021-12-05   \n",
       "3  5136  20211204143024   2021-12-05   \n",
       "4  5178  20211204143024   2021-12-05   \n",
       "\n",
       "                                                name  \\\n",
       "0                              Skylit Midtown Castle   \n",
       "1  Whole flr w/private bdrm, bath & kitchen(pls r...   \n",
       "2                                    BlissArtsSpace!   \n",
       "3           Spacious Brooklyn Duplex, Patio + Garden   \n",
       "4                   Large Furnished Room Near B'way　   \n",
       "\n",
       "                                         description  \\\n",
       "0  Beautiful, spacious skylit studio in the heart...   \n",
       "1  Enjoy 500 s.f. top floor in 1899 brownstone, w...   \n",
       "2  <b>The space</b><br />HELLO EVERYONE AND THANK...   \n",
       "3  We welcome you to stay in our lovely 2 br dupl...   \n",
       "4  Please don’t expect the luxury here just a bas...   \n",
       "\n",
       "                               neighborhood_overview  host_id    host_name  \\\n",
       "0  Centrally located in the heart of Manhattan ju...     2845     Jennifer   \n",
       "1  Just the right mix of urban center and local n...     4869  LisaRoxanne   \n",
       "2                                                NaN     7356        Garon   \n",
       "3                                                NaN     7378      Rebecca   \n",
       "4    Theater district, many restaurants around here.     8967     Shunichi   \n",
       "\n",
       "   host_since                      host_location  ...  \\\n",
       "0  2008-09-09  New York, New York, United States  ...   \n",
       "1  2008-12-07  New York, New York, United States  ...   \n",
       "2  2009-02-03  New York, New York, United States  ...   \n",
       "3  2009-02-03  Brooklyn, New York, United States  ...   \n",
       "4  2009-03-03  New York, New York, United States  ...   \n",
       "\n",
       "  calculated_host_listings_count_entire_homes  \\\n",
       "0                                           3   \n",
       "1                                           1   \n",
       "2                                           0   \n",
       "3                                           1   \n",
       "4                                           0   \n",
       "\n",
       "  calculated_host_listings_count_private_rooms  \\\n",
       "0                                            0   \n",
       "1                                            0   \n",
       "2                                            2   \n",
       "3                                            0   \n",
       "4                                            1   \n",
       "\n",
       "  calculated_host_listings_count_shared_rooms reviews_per_month label_price  \\\n",
       "0                                           0              0.33       150.0   \n",
       "1                                           0              4.86        75.0   \n",
       "2                                           0              0.52        60.0   \n",
       "3                                           0              0.02       275.0   \n",
       "4                                           0              3.68        68.0   \n",
       "\n",
       "  host_listings_count_na  host_total_listings_count_na  bathrooms_na  \\\n",
       "0                  False                         False         False   \n",
       "1                  False                         False         False   \n",
       "2                  False                         False         False   \n",
       "3                  False                         False         False   \n",
       "4                  False                         False         False   \n",
       "\n",
       "  bedrooms_na beds_na  \n",
       "0       False   False  \n",
       "1       False   False  \n",
       "2       False   False  \n",
       "3       False   False  \n",
       "4       False   False  \n",
       "\n",
       "[5 rows x 75 columns]"
      ]
     },
     "execution_count": 29,
     "metadata": {},
     "output_type": "execute_result"
    }
   ],
   "source": [
    "df.head()"
   ]
  },
  {
   "cell_type": "markdown",
   "metadata": {},
   "source": [
    "#### Replacing the missing values with mean values of the column"
   ]
  },
  {
   "cell_type": "markdown",
   "metadata": {},
   "source": [
    "**Task**: For every column listed in `to_impute_selected`, fill the missing values with the corresponding mean of all values in the column (do not create new columns)."
   ]
  },
  {
   "cell_type": "code",
   "execution_count": 30,
   "metadata": {},
   "outputs": [],
   "source": [
    "# YOUR CODE HERE\n",
    "for i in to_impute_selected:\n",
    "    mean_for_column = df[i].mean()\n",
    "    df[i].fillna(value = mean_for_column, inplace = True)"
   ]
  },
  {
   "cell_type": "markdown",
   "metadata": {},
   "source": [
    "Check your results below. The code displays the count of missing values for each of the selected columns. "
   ]
  },
  {
   "cell_type": "code",
   "execution_count": 31,
   "metadata": {},
   "outputs": [
    {
     "name": "stdout",
     "output_type": "stream",
     "text": [
      "host_listings_count missing values count :0\n",
      "host_total_listings_count missing values count :0\n",
      "bathrooms missing values count :38277\n",
      "bedrooms missing values count :0\n",
      "beds missing values count :0\n"
     ]
    }
   ],
   "source": [
    "for colname in to_impute_selected:\n",
    "    print(\"{} missing values count :{}\".format(colname, np.sum(df[colname].isnull(), axis = 0)))\n"
   ]
  },
  {
   "cell_type": "markdown",
   "metadata": {},
   "source": [
    "Why did the `bathrooms` column retain missing values after our imputation?"
   ]
  },
  {
   "cell_type": "markdown",
   "metadata": {},
   "source": [
    "**Task**: List the unique values of the `bathrooms` column."
   ]
  },
  {
   "cell_type": "code",
   "execution_count": 32,
   "metadata": {},
   "outputs": [
    {
     "data": {
      "text/plain": [
       "array([nan])"
      ]
     },
     "execution_count": 32,
     "metadata": {},
     "output_type": "execute_result"
    }
   ],
   "source": [
    "# YOUR CODE HERE\n",
    "df['bathrooms'].unique()"
   ]
  },
  {
   "cell_type": "markdown",
   "metadata": {},
   "source": [
    "The column did not contain a single value (except the `NaN` indicator) to begin with."
   ]
  },
  {
   "cell_type": "markdown",
   "metadata": {},
   "source": [
    "## Part 3. Perform One-Hot Encoding"
   ]
  },
  {
   "cell_type": "markdown",
   "metadata": {},
   "source": [
    "Machine learning algorithms operate on numerical inputs. Therefore, we have to transform text data into some form of numerical representation to prepare our data for the model training phase. Some features that contain text data are categorical. Others are not. For example, we removed all of the features that contained URLs. These features were not categorical, but rather contained what is called unstructured text. However, not all features that contain unstructured text should be removed, as they can contain useful information for our machine learning problem. Unstructured text data is usually handled by Natural Language Processing (NLP) techniques. You will learn more about NLP later in this course. \n",
    "\n",
    "However, for features that contain categorical values, one-hot encoding is a common feature engineering technique that transforms them into binary representations. "
   ]
  },
  {
   "cell_type": "markdown",
   "metadata": {},
   "source": [
    "We will first choose one feature column to one-hot encode: `host_response_time`. Let's inspect the unique values this feature can have. "
   ]
  },
  {
   "cell_type": "code",
   "execution_count": 33,
   "metadata": {},
   "outputs": [
    {
     "data": {
      "text/plain": [
       "array(['within a day', 'a few days or more', 'within an hour', nan,\n",
       "       'within a few hours'], dtype=object)"
      ]
     },
     "execution_count": 33,
     "metadata": {},
     "output_type": "execute_result"
    }
   ],
   "source": [
    "df['host_response_time'].unique()"
   ]
  },
  {
   "cell_type": "markdown",
   "metadata": {},
   "source": [
    "Note that each entry can contain one of five possible values. \n",
    "\n",
    "**Task**: Since one of these values is `NaN`, replace every entry in the column `host_response_time` that contains a `NaN` value with the string 'unavailable'."
   ]
  },
  {
   "cell_type": "code",
   "execution_count": 34,
   "metadata": {},
   "outputs": [
    {
     "data": {
      "text/plain": [
       "0              within a day\n",
       "1        a few days or more\n",
       "2            within an hour\n",
       "3              within a day\n",
       "4              within a day\n",
       "                ...        \n",
       "38272    within a few hours\n",
       "38273    within a few hours\n",
       "38274        within an hour\n",
       "38275        within an hour\n",
       "38276        within an hour\n",
       "Name: host_response_time, Length: 38277, dtype: object"
      ]
     },
     "execution_count": 34,
     "metadata": {},
     "output_type": "execute_result"
    }
   ],
   "source": [
    "# YOUR CODE HERE\n",
    "df['host_response_time'].replace(np.nan, 'unavailable')"
   ]
  },
  {
   "cell_type": "markdown",
   "metadata": {},
   "source": [
    "Let's inspect the `host_response_time` column to see the new values."
   ]
  },
  {
   "cell_type": "code",
   "execution_count": 35,
   "metadata": {},
   "outputs": [
    {
     "data": {
      "text/plain": [
       "array(['within a day', 'a few days or more', 'within an hour', nan,\n",
       "       'within a few hours'], dtype=object)"
      ]
     },
     "execution_count": 35,
     "metadata": {},
     "output_type": "execute_result"
    }
   ],
   "source": [
    "df['host_response_time'].unique()"
   ]
  },
  {
   "cell_type": "markdown",
   "metadata": {},
   "source": [
    "**Task**: Use `pd.get_dummies()` to one-hot encode the `host_response_time` column. Save the result to DataFrame `df_host_response_time`. "
   ]
  },
  {
   "cell_type": "code",
   "execution_count": 36,
   "metadata": {},
   "outputs": [
    {
     "data": {
      "text/html": [
       "<div>\n",
       "<style scoped>\n",
       "    .dataframe tbody tr th:only-of-type {\n",
       "        vertical-align: middle;\n",
       "    }\n",
       "\n",
       "    .dataframe tbody tr th {\n",
       "        vertical-align: top;\n",
       "    }\n",
       "\n",
       "    .dataframe thead th {\n",
       "        text-align: right;\n",
       "    }\n",
       "</style>\n",
       "<table border=\"1\" class=\"dataframe\">\n",
       "  <thead>\n",
       "    <tr style=\"text-align: right;\">\n",
       "      <th></th>\n",
       "      <th>a few days or more</th>\n",
       "      <th>within a day</th>\n",
       "      <th>within a few hours</th>\n",
       "      <th>within an hour</th>\n",
       "    </tr>\n",
       "  </thead>\n",
       "  <tbody>\n",
       "    <tr>\n",
       "      <th>0</th>\n",
       "      <td>0</td>\n",
       "      <td>1</td>\n",
       "      <td>0</td>\n",
       "      <td>0</td>\n",
       "    </tr>\n",
       "    <tr>\n",
       "      <th>1</th>\n",
       "      <td>1</td>\n",
       "      <td>0</td>\n",
       "      <td>0</td>\n",
       "      <td>0</td>\n",
       "    </tr>\n",
       "    <tr>\n",
       "      <th>2</th>\n",
       "      <td>0</td>\n",
       "      <td>0</td>\n",
       "      <td>0</td>\n",
       "      <td>1</td>\n",
       "    </tr>\n",
       "    <tr>\n",
       "      <th>3</th>\n",
       "      <td>0</td>\n",
       "      <td>1</td>\n",
       "      <td>0</td>\n",
       "      <td>0</td>\n",
       "    </tr>\n",
       "    <tr>\n",
       "      <th>4</th>\n",
       "      <td>0</td>\n",
       "      <td>1</td>\n",
       "      <td>0</td>\n",
       "      <td>0</td>\n",
       "    </tr>\n",
       "    <tr>\n",
       "      <th>...</th>\n",
       "      <td>...</td>\n",
       "      <td>...</td>\n",
       "      <td>...</td>\n",
       "      <td>...</td>\n",
       "    </tr>\n",
       "    <tr>\n",
       "      <th>38272</th>\n",
       "      <td>0</td>\n",
       "      <td>0</td>\n",
       "      <td>1</td>\n",
       "      <td>0</td>\n",
       "    </tr>\n",
       "    <tr>\n",
       "      <th>38273</th>\n",
       "      <td>0</td>\n",
       "      <td>0</td>\n",
       "      <td>1</td>\n",
       "      <td>0</td>\n",
       "    </tr>\n",
       "    <tr>\n",
       "      <th>38274</th>\n",
       "      <td>0</td>\n",
       "      <td>0</td>\n",
       "      <td>0</td>\n",
       "      <td>1</td>\n",
       "    </tr>\n",
       "    <tr>\n",
       "      <th>38275</th>\n",
       "      <td>0</td>\n",
       "      <td>0</td>\n",
       "      <td>0</td>\n",
       "      <td>1</td>\n",
       "    </tr>\n",
       "    <tr>\n",
       "      <th>38276</th>\n",
       "      <td>0</td>\n",
       "      <td>0</td>\n",
       "      <td>0</td>\n",
       "      <td>1</td>\n",
       "    </tr>\n",
       "  </tbody>\n",
       "</table>\n",
       "<p>38277 rows × 4 columns</p>\n",
       "</div>"
      ],
      "text/plain": [
       "       a few days or more  within a day  within a few hours  within an hour\n",
       "0                       0             1                   0               0\n",
       "1                       1             0                   0               0\n",
       "2                       0             0                   0               1\n",
       "3                       0             1                   0               0\n",
       "4                       0             1                   0               0\n",
       "...                   ...           ...                 ...             ...\n",
       "38272                   0             0                   1               0\n",
       "38273                   0             0                   1               0\n",
       "38274                   0             0                   0               1\n",
       "38275                   0             0                   0               1\n",
       "38276                   0             0                   0               1\n",
       "\n",
       "[38277 rows x 4 columns]"
      ]
     },
     "execution_count": 36,
     "metadata": {},
     "output_type": "execute_result"
    }
   ],
   "source": [
    "df_host_response_time = pd.get_dummies(df['host_response_time'])# YOUR CODE HERE\n",
    "df_host_response_time"
   ]
  },
  {
   "cell_type": "markdown",
   "metadata": {},
   "source": [
    "**Task**: Since the `pd.get_dummies()` function returned a new DataFrame rather than making the changes to the original DataFrame `df`, add the new DataFrame `df_host_response_time` to DataFrame `df`, and delete the original `host_response_time` column from DataFrame `df`.\n"
   ]
  },
  {
   "cell_type": "code",
   "execution_count": 37,
   "metadata": {},
   "outputs": [],
   "source": [
    "# YOUR CODE HERE\n",
    "df.join(df_host_response_time)\n",
    "df.drop(columns = 'host_response_time', inplace = True)"
   ]
  },
  {
   "cell_type": "markdown",
   "metadata": {},
   "source": [
    "Let's inspect DataFrame `df` to see the changes that have been made."
   ]
  },
  {
   "cell_type": "code",
   "execution_count": 38,
   "metadata": {},
   "outputs": [
    {
     "data": {
      "text/plain": [
       "Index(['id', 'scrape_id', 'last_scraped', 'name', 'description',\n",
       "       'neighborhood_overview', 'host_id', 'host_name', 'host_since',\n",
       "       'host_location', 'host_about', 'host_response_rate',\n",
       "       'host_acceptance_rate', 'host_is_superhost', 'host_neighbourhood',\n",
       "       'host_listings_count', 'host_total_listings_count',\n",
       "       'host_verifications', 'host_has_profile_pic', 'host_identity_verified',\n",
       "       'neighbourhood', 'neighbourhood_cleansed',\n",
       "       'neighbourhood_group_cleansed', 'latitude', 'longitude',\n",
       "       'property_type', 'room_type', 'accommodates', 'bathrooms',\n",
       "       'bathrooms_text', 'bedrooms', 'beds', 'amenities', 'price',\n",
       "       'minimum_nights', 'maximum_nights', 'minimum_minimum_nights',\n",
       "       'maximum_minimum_nights', 'minimum_maximum_nights',\n",
       "       'maximum_maximum_nights', 'minimum_nights_avg_ntm',\n",
       "       'maximum_nights_avg_ntm', 'calendar_updated', 'has_availability',\n",
       "       'availability_30', 'availability_60', 'availability_90',\n",
       "       'availability_365', 'calendar_last_scraped', 'number_of_reviews',\n",
       "       'number_of_reviews_ltm', 'number_of_reviews_l30d', 'first_review',\n",
       "       'last_review', 'review_scores_rating', 'review_scores_accuracy',\n",
       "       'review_scores_cleanliness', 'review_scores_checkin',\n",
       "       'review_scores_communication', 'review_scores_location',\n",
       "       'review_scores_value', 'license', 'instant_bookable',\n",
       "       'calculated_host_listings_count',\n",
       "       'calculated_host_listings_count_entire_homes',\n",
       "       'calculated_host_listings_count_private_rooms',\n",
       "       'calculated_host_listings_count_shared_rooms', 'reviews_per_month',\n",
       "       'label_price', 'host_listings_count_na', 'host_total_listings_count_na',\n",
       "       'bathrooms_na', 'bedrooms_na', 'beds_na'],\n",
       "      dtype='object')"
      ]
     },
     "execution_count": 38,
     "metadata": {},
     "output_type": "execute_result"
    }
   ],
   "source": [
    "df.columns"
   ]
  },
  {
   "cell_type": "markdown",
   "metadata": {},
   "source": [
    "#### One-hot encode additional features\n",
    "\n",
    "**Task**: Use the code cell below to find columns that contain string values  (the 'object' data type) and inspect the *number* of unique values each column has."
   ]
  },
  {
   "cell_type": "code",
   "execution_count": 39,
   "metadata": {},
   "outputs": [
    {
     "name": "stdout",
     "output_type": "stream",
     "text": [
      "last_scraped 2\n",
      "name 36870\n",
      "description 34133\n",
      "neighborhood_overview 18616\n",
      "host_name 9123\n",
      "host_since 4289\n",
      "host_location 1747\n",
      "host_about 14424\n",
      "host_response_rate 88\n",
      "host_acceptance_rate 101\n",
      "host_is_superhost 2\n",
      "host_neighbourhood 484\n",
      "host_verifications 526\n",
      "host_has_profile_pic 2\n",
      "host_identity_verified 2\n",
      "neighbourhood 207\n",
      "neighbourhood_cleansed 222\n",
      "neighbourhood_group_cleansed 5\n",
      "property_type 78\n",
      "room_type 4\n",
      "bathrooms_text 30\n",
      "amenities 31740\n",
      "has_availability 2\n",
      "calendar_last_scraped 2\n",
      "first_review 3171\n",
      "last_review 2560\n",
      "license 1\n",
      "instant_bookable 2\n"
     ]
    }
   ],
   "source": [
    "# YOUR CODE HERE\n",
    "columns_type_string = list(df.select_dtypes(include=['object']).columns)\n",
    "for i in columns_type_string:\n",
    "    print(i, df[i].nunique())"
   ]
  },
  {
   "cell_type": "markdown",
   "metadata": {},
   "source": [
    "**Task**: Based on your findings, identify features that you think should be transformed using one-hot encoding.\n",
    "\n",
    "1. Use the code cell below to inspect the unique *values* that each of these features have."
   ]
  },
  {
   "cell_type": "code",
   "execution_count": 40,
   "metadata": {},
   "outputs": [
    {
     "name": "stdout",
     "output_type": "stream",
     "text": [
      "last_scraped\n",
      "['2021-12-05']\n",
      "host_response_rate\n",
      "['80%' '9%' '100%' nan]\n",
      "host_acceptance_rate\n",
      "['17%' '69%' '100%' '25%' nan]\n",
      "host_is_superhost\n",
      "['f' 't']\n",
      "host_has_profile_pic\n",
      "['t']\n",
      "host_identity_verified\n",
      "['t' 'f']\n",
      "neighbourhood_group_cleansed\n",
      "['Manhattan' 'Brooklyn']\n",
      "property_type\n",
      "['Entire rental unit' 'Entire guest suite' 'Private room in rental unit'\n",
      " 'Private room in townhouse' 'Private room in condominium (condo)']\n",
      "room_type\n",
      "['Entire home/apt' 'Private room']\n",
      "bathrooms_text\n",
      "['1 bath' nan '1.5 baths' '1 shared bath']\n",
      "has_availability\n",
      "['t']\n",
      "calendar_last_scraped\n",
      "['2021-12-05']\n",
      "license\n",
      "[nan]\n",
      "instant_bookable\n",
      "['f' 't']\n"
     ]
    }
   ],
   "source": [
    "# YOUR CODE HERE\n",
    "for i in columns_type_string:\n",
    "    if (df[i].nunique() < 110):\n",
    "        print(i)\n",
    "        print(df[i].head(10).unique())"
   ]
  },
  {
   "cell_type": "markdown",
   "metadata": {},
   "source": [
    "2.  List these features and explain why they would be suitable for one-hot encoding. Note your findings in the markdown cell below."
   ]
  },
  {
   "cell_type": "markdown",
   "metadata": {},
   "source": [
    "Features: last_scraped, host_response_rate, host_acceptance_rate, host_is_superhost, host_has_profile_pic, host_identity_verified, neighbourhood_group_cleansed, property_type, room_type, bathrooms_text, has_availability, calendar_last_scraped, license, and instant_bookable. These features have a minimal number (less than 110) unique values so they might be more suitable for one-hot encoding."
   ]
  },
  {
   "cell_type": "markdown",
   "metadata": {},
   "source": [
    "**Task**: In the code cell below, one-hot encode one of the features you have identified and replace the original column in DataFrame `df` with the new one-hot encoded columns. "
   ]
  },
  {
   "cell_type": "code",
   "execution_count": 41,
   "metadata": {},
   "outputs": [],
   "source": [
    "# YOUR CODE HERE\n",
    "# I chose to one-hot encode the feature of 'host_acceptance_rate'\n",
    "for i in df['host_acceptance_rate'].unique():\n",
    "    df['host_acceptance_rate_'+str(i)] = np.where(df['host_acceptance_rate']==i,1,0)\n",
    "df.drop(columns = 'host_acceptance_rate', inplace = True)"
   ]
  },
  {
   "cell_type": "markdown",
   "metadata": {},
   "source": [
    "## Part 4. Explore Your Data"
   ]
  },
  {
   "cell_type": "markdown",
   "metadata": {},
   "source": [
    "You will now perform exploratory data analysis in preparation for selecting your features as part of feature engineering. \n",
    "\n",
    "#### Identify Correlations\n",
    "\n",
    "We will focus on identifying which features in the data have the highest correlation with the label."
   ]
  },
  {
   "cell_type": "markdown",
   "metadata": {},
   "source": [
    "Let's first run the `corr()` method on DataFrame `df` and save the result to the variable `corr_matrix`. Let's round the resulting correlations to five decimal places:"
   ]
  },
  {
   "cell_type": "code",
   "execution_count": 42,
   "metadata": {},
   "outputs": [
    {
     "data": {
      "text/html": [
       "<div>\n",
       "<style scoped>\n",
       "    .dataframe tbody tr th:only-of-type {\n",
       "        vertical-align: middle;\n",
       "    }\n",
       "\n",
       "    .dataframe tbody tr th {\n",
       "        vertical-align: top;\n",
       "    }\n",
       "\n",
       "    .dataframe thead th {\n",
       "        text-align: right;\n",
       "    }\n",
       "</style>\n",
       "<table border=\"1\" class=\"dataframe\">\n",
       "  <thead>\n",
       "    <tr style=\"text-align: right;\">\n",
       "      <th></th>\n",
       "      <th>id</th>\n",
       "      <th>scrape_id</th>\n",
       "      <th>host_id</th>\n",
       "      <th>host_listings_count</th>\n",
       "      <th>host_total_listings_count</th>\n",
       "      <th>latitude</th>\n",
       "      <th>longitude</th>\n",
       "      <th>accommodates</th>\n",
       "      <th>bathrooms</th>\n",
       "      <th>bedrooms</th>\n",
       "      <th>...</th>\n",
       "      <th>host_acceptance_rate_10%</th>\n",
       "      <th>host_acceptance_rate_37%</th>\n",
       "      <th>host_acceptance_rate_49%</th>\n",
       "      <th>host_acceptance_rate_31%</th>\n",
       "      <th>host_acceptance_rate_7%</th>\n",
       "      <th>host_acceptance_rate_2%</th>\n",
       "      <th>host_acceptance_rate_4%</th>\n",
       "      <th>host_acceptance_rate_12%</th>\n",
       "      <th>host_acceptance_rate_1%</th>\n",
       "      <th>host_acceptance_rate_16%</th>\n",
       "    </tr>\n",
       "  </thead>\n",
       "  <tbody>\n",
       "    <tr>\n",
       "      <th>id</th>\n",
       "      <td>1.00000</td>\n",
       "      <td>-0.0</td>\n",
       "      <td>0.58617</td>\n",
       "      <td>0.12986</td>\n",
       "      <td>0.12986</td>\n",
       "      <td>0.01000</td>\n",
       "      <td>0.08708</td>\n",
       "      <td>0.03540</td>\n",
       "      <td>NaN</td>\n",
       "      <td>0.04503</td>\n",
       "      <td>...</td>\n",
       "      <td>-0.00084</td>\n",
       "      <td>-0.00873</td>\n",
       "      <td>0.00180</td>\n",
       "      <td>0.01278</td>\n",
       "      <td>0.00398</td>\n",
       "      <td>0.00363</td>\n",
       "      <td>0.00044</td>\n",
       "      <td>0.01648</td>\n",
       "      <td>0.00622</td>\n",
       "      <td>0.00848</td>\n",
       "    </tr>\n",
       "    <tr>\n",
       "      <th>scrape_id</th>\n",
       "      <td>-0.00000</td>\n",
       "      <td>1.0</td>\n",
       "      <td>0.00000</td>\n",
       "      <td>-0.00000</td>\n",
       "      <td>-0.00000</td>\n",
       "      <td>0.00000</td>\n",
       "      <td>-0.00000</td>\n",
       "      <td>0.00000</td>\n",
       "      <td>NaN</td>\n",
       "      <td>0.00000</td>\n",
       "      <td>...</td>\n",
       "      <td>0.00000</td>\n",
       "      <td>-0.00000</td>\n",
       "      <td>0.00000</td>\n",
       "      <td>0.00000</td>\n",
       "      <td>-0.00000</td>\n",
       "      <td>0.00000</td>\n",
       "      <td>0.00000</td>\n",
       "      <td>-0.00000</td>\n",
       "      <td>0.00000</td>\n",
       "      <td>0.00000</td>\n",
       "    </tr>\n",
       "    <tr>\n",
       "      <th>host_id</th>\n",
       "      <td>0.58617</td>\n",
       "      <td>0.0</td>\n",
       "      <td>1.00000</td>\n",
       "      <td>0.03189</td>\n",
       "      <td>0.03189</td>\n",
       "      <td>0.04148</td>\n",
       "      <td>0.11620</td>\n",
       "      <td>0.02723</td>\n",
       "      <td>NaN</td>\n",
       "      <td>0.02202</td>\n",
       "      <td>...</td>\n",
       "      <td>-0.00314</td>\n",
       "      <td>-0.01429</td>\n",
       "      <td>-0.00855</td>\n",
       "      <td>-0.00550</td>\n",
       "      <td>0.01023</td>\n",
       "      <td>-0.00152</td>\n",
       "      <td>0.00489</td>\n",
       "      <td>0.02066</td>\n",
       "      <td>0.00806</td>\n",
       "      <td>0.00013</td>\n",
       "    </tr>\n",
       "    <tr>\n",
       "      <th>host_listings_count</th>\n",
       "      <td>0.12986</td>\n",
       "      <td>-0.0</td>\n",
       "      <td>0.03189</td>\n",
       "      <td>1.00000</td>\n",
       "      <td>1.00000</td>\n",
       "      <td>0.03475</td>\n",
       "      <td>-0.08843</td>\n",
       "      <td>-0.02621</td>\n",
       "      <td>NaN</td>\n",
       "      <td>-0.01710</td>\n",
       "      <td>...</td>\n",
       "      <td>-0.00313</td>\n",
       "      <td>-0.00337</td>\n",
       "      <td>-0.00356</td>\n",
       "      <td>-0.00459</td>\n",
       "      <td>-0.00356</td>\n",
       "      <td>-0.00189</td>\n",
       "      <td>-0.00258</td>\n",
       "      <td>0.01293</td>\n",
       "      <td>0.00056</td>\n",
       "      <td>-0.00113</td>\n",
       "    </tr>\n",
       "    <tr>\n",
       "      <th>host_total_listings_count</th>\n",
       "      <td>0.12986</td>\n",
       "      <td>-0.0</td>\n",
       "      <td>0.03189</td>\n",
       "      <td>1.00000</td>\n",
       "      <td>1.00000</td>\n",
       "      <td>0.03475</td>\n",
       "      <td>-0.08843</td>\n",
       "      <td>-0.02621</td>\n",
       "      <td>NaN</td>\n",
       "      <td>-0.01710</td>\n",
       "      <td>...</td>\n",
       "      <td>-0.00313</td>\n",
       "      <td>-0.00337</td>\n",
       "      <td>-0.00356</td>\n",
       "      <td>-0.00459</td>\n",
       "      <td>-0.00356</td>\n",
       "      <td>-0.00189</td>\n",
       "      <td>-0.00258</td>\n",
       "      <td>0.01293</td>\n",
       "      <td>0.00056</td>\n",
       "      <td>-0.00113</td>\n",
       "    </tr>\n",
       "    <tr>\n",
       "      <th>...</th>\n",
       "      <td>...</td>\n",
       "      <td>...</td>\n",
       "      <td>...</td>\n",
       "      <td>...</td>\n",
       "      <td>...</td>\n",
       "      <td>...</td>\n",
       "      <td>...</td>\n",
       "      <td>...</td>\n",
       "      <td>...</td>\n",
       "      <td>...</td>\n",
       "      <td>...</td>\n",
       "      <td>...</td>\n",
       "      <td>...</td>\n",
       "      <td>...</td>\n",
       "      <td>...</td>\n",
       "      <td>...</td>\n",
       "      <td>...</td>\n",
       "      <td>...</td>\n",
       "      <td>...</td>\n",
       "      <td>...</td>\n",
       "      <td>...</td>\n",
       "    </tr>\n",
       "    <tr>\n",
       "      <th>host_acceptance_rate_2%</th>\n",
       "      <td>0.00363</td>\n",
       "      <td>0.0</td>\n",
       "      <td>-0.00152</td>\n",
       "      <td>-0.00189</td>\n",
       "      <td>-0.00189</td>\n",
       "      <td>0.00489</td>\n",
       "      <td>-0.00624</td>\n",
       "      <td>0.00251</td>\n",
       "      <td>NaN</td>\n",
       "      <td>-0.00604</td>\n",
       "      <td>...</td>\n",
       "      <td>-0.00027</td>\n",
       "      <td>-0.00029</td>\n",
       "      <td>-0.00030</td>\n",
       "      <td>-0.00038</td>\n",
       "      <td>-0.00032</td>\n",
       "      <td>1.00000</td>\n",
       "      <td>-0.00022</td>\n",
       "      <td>-0.00020</td>\n",
       "      <td>-0.00011</td>\n",
       "      <td>-0.00009</td>\n",
       "    </tr>\n",
       "    <tr>\n",
       "      <th>host_acceptance_rate_4%</th>\n",
       "      <td>0.00044</td>\n",
       "      <td>0.0</td>\n",
       "      <td>0.00489</td>\n",
       "      <td>-0.00258</td>\n",
       "      <td>-0.00258</td>\n",
       "      <td>0.00795</td>\n",
       "      <td>0.00667</td>\n",
       "      <td>-0.00356</td>\n",
       "      <td>NaN</td>\n",
       "      <td>-0.00421</td>\n",
       "      <td>...</td>\n",
       "      <td>-0.00038</td>\n",
       "      <td>-0.00041</td>\n",
       "      <td>-0.00042</td>\n",
       "      <td>-0.00054</td>\n",
       "      <td>-0.00045</td>\n",
       "      <td>-0.00022</td>\n",
       "      <td>1.00000</td>\n",
       "      <td>-0.00029</td>\n",
       "      <td>-0.00016</td>\n",
       "      <td>-0.00013</td>\n",
       "    </tr>\n",
       "    <tr>\n",
       "      <th>host_acceptance_rate_12%</th>\n",
       "      <td>0.01648</td>\n",
       "      <td>-0.0</td>\n",
       "      <td>0.02066</td>\n",
       "      <td>0.01293</td>\n",
       "      <td>0.01293</td>\n",
       "      <td>0.00642</td>\n",
       "      <td>-0.00749</td>\n",
       "      <td>0.00785</td>\n",
       "      <td>NaN</td>\n",
       "      <td>0.00177</td>\n",
       "      <td>...</td>\n",
       "      <td>-0.00035</td>\n",
       "      <td>-0.00038</td>\n",
       "      <td>-0.00039</td>\n",
       "      <td>-0.00049</td>\n",
       "      <td>-0.00041</td>\n",
       "      <td>-0.00020</td>\n",
       "      <td>-0.00029</td>\n",
       "      <td>1.00000</td>\n",
       "      <td>-0.00014</td>\n",
       "      <td>-0.00012</td>\n",
       "    </tr>\n",
       "    <tr>\n",
       "      <th>host_acceptance_rate_1%</th>\n",
       "      <td>0.00622</td>\n",
       "      <td>0.0</td>\n",
       "      <td>0.00806</td>\n",
       "      <td>0.00056</td>\n",
       "      <td>0.00056</td>\n",
       "      <td>0.00450</td>\n",
       "      <td>-0.00355</td>\n",
       "      <td>-0.00375</td>\n",
       "      <td>NaN</td>\n",
       "      <td>-0.00285</td>\n",
       "      <td>...</td>\n",
       "      <td>-0.00019</td>\n",
       "      <td>-0.00021</td>\n",
       "      <td>-0.00021</td>\n",
       "      <td>-0.00027</td>\n",
       "      <td>-0.00023</td>\n",
       "      <td>-0.00011</td>\n",
       "      <td>-0.00016</td>\n",
       "      <td>-0.00014</td>\n",
       "      <td>1.00000</td>\n",
       "      <td>-0.00006</td>\n",
       "    </tr>\n",
       "    <tr>\n",
       "      <th>host_acceptance_rate_16%</th>\n",
       "      <td>0.00848</td>\n",
       "      <td>0.0</td>\n",
       "      <td>0.00013</td>\n",
       "      <td>-0.00113</td>\n",
       "      <td>-0.00113</td>\n",
       "      <td>0.00320</td>\n",
       "      <td>0.00090</td>\n",
       "      <td>-0.00500</td>\n",
       "      <td>NaN</td>\n",
       "      <td>-0.00349</td>\n",
       "      <td>...</td>\n",
       "      <td>-0.00016</td>\n",
       "      <td>-0.00017</td>\n",
       "      <td>-0.00017</td>\n",
       "      <td>-0.00022</td>\n",
       "      <td>-0.00018</td>\n",
       "      <td>-0.00009</td>\n",
       "      <td>-0.00013</td>\n",
       "      <td>-0.00012</td>\n",
       "      <td>-0.00006</td>\n",
       "      <td>1.00000</td>\n",
       "    </tr>\n",
       "  </tbody>\n",
       "</table>\n",
       "<p>148 rows × 148 columns</p>\n",
       "</div>"
      ],
      "text/plain": [
       "                                id  scrape_id  host_id  host_listings_count  \\\n",
       "id                         1.00000       -0.0  0.58617              0.12986   \n",
       "scrape_id                 -0.00000        1.0  0.00000             -0.00000   \n",
       "host_id                    0.58617        0.0  1.00000              0.03189   \n",
       "host_listings_count        0.12986       -0.0  0.03189              1.00000   \n",
       "host_total_listings_count  0.12986       -0.0  0.03189              1.00000   \n",
       "...                            ...        ...      ...                  ...   \n",
       "host_acceptance_rate_2%    0.00363        0.0 -0.00152             -0.00189   \n",
       "host_acceptance_rate_4%    0.00044        0.0  0.00489             -0.00258   \n",
       "host_acceptance_rate_12%   0.01648       -0.0  0.02066              0.01293   \n",
       "host_acceptance_rate_1%    0.00622        0.0  0.00806              0.00056   \n",
       "host_acceptance_rate_16%   0.00848        0.0  0.00013             -0.00113   \n",
       "\n",
       "                           host_total_listings_count  latitude  longitude  \\\n",
       "id                                           0.12986   0.01000    0.08708   \n",
       "scrape_id                                   -0.00000   0.00000   -0.00000   \n",
       "host_id                                      0.03189   0.04148    0.11620   \n",
       "host_listings_count                          1.00000   0.03475   -0.08843   \n",
       "host_total_listings_count                    1.00000   0.03475   -0.08843   \n",
       "...                                              ...       ...        ...   \n",
       "host_acceptance_rate_2%                     -0.00189   0.00489   -0.00624   \n",
       "host_acceptance_rate_4%                     -0.00258   0.00795    0.00667   \n",
       "host_acceptance_rate_12%                     0.01293   0.00642   -0.00749   \n",
       "host_acceptance_rate_1%                      0.00056   0.00450   -0.00355   \n",
       "host_acceptance_rate_16%                    -0.00113   0.00320    0.00090   \n",
       "\n",
       "                           accommodates  bathrooms  bedrooms  ...  \\\n",
       "id                              0.03540        NaN   0.04503  ...   \n",
       "scrape_id                       0.00000        NaN   0.00000  ...   \n",
       "host_id                         0.02723        NaN   0.02202  ...   \n",
       "host_listings_count            -0.02621        NaN  -0.01710  ...   \n",
       "host_total_listings_count      -0.02621        NaN  -0.01710  ...   \n",
       "...                                 ...        ...       ...  ...   \n",
       "host_acceptance_rate_2%         0.00251        NaN  -0.00604  ...   \n",
       "host_acceptance_rate_4%        -0.00356        NaN  -0.00421  ...   \n",
       "host_acceptance_rate_12%        0.00785        NaN   0.00177  ...   \n",
       "host_acceptance_rate_1%        -0.00375        NaN  -0.00285  ...   \n",
       "host_acceptance_rate_16%       -0.00500        NaN  -0.00349  ...   \n",
       "\n",
       "                           host_acceptance_rate_10%  host_acceptance_rate_37%  \\\n",
       "id                                         -0.00084                  -0.00873   \n",
       "scrape_id                                   0.00000                  -0.00000   \n",
       "host_id                                    -0.00314                  -0.01429   \n",
       "host_listings_count                        -0.00313                  -0.00337   \n",
       "host_total_listings_count                  -0.00313                  -0.00337   \n",
       "...                                             ...                       ...   \n",
       "host_acceptance_rate_2%                    -0.00027                  -0.00029   \n",
       "host_acceptance_rate_4%                    -0.00038                  -0.00041   \n",
       "host_acceptance_rate_12%                   -0.00035                  -0.00038   \n",
       "host_acceptance_rate_1%                    -0.00019                  -0.00021   \n",
       "host_acceptance_rate_16%                   -0.00016                  -0.00017   \n",
       "\n",
       "                           host_acceptance_rate_49%  host_acceptance_rate_31%  \\\n",
       "id                                          0.00180                   0.01278   \n",
       "scrape_id                                   0.00000                   0.00000   \n",
       "host_id                                    -0.00855                  -0.00550   \n",
       "host_listings_count                        -0.00356                  -0.00459   \n",
       "host_total_listings_count                  -0.00356                  -0.00459   \n",
       "...                                             ...                       ...   \n",
       "host_acceptance_rate_2%                    -0.00030                  -0.00038   \n",
       "host_acceptance_rate_4%                    -0.00042                  -0.00054   \n",
       "host_acceptance_rate_12%                   -0.00039                  -0.00049   \n",
       "host_acceptance_rate_1%                    -0.00021                  -0.00027   \n",
       "host_acceptance_rate_16%                   -0.00017                  -0.00022   \n",
       "\n",
       "                           host_acceptance_rate_7%  host_acceptance_rate_2%  \\\n",
       "id                                         0.00398                  0.00363   \n",
       "scrape_id                                 -0.00000                  0.00000   \n",
       "host_id                                    0.01023                 -0.00152   \n",
       "host_listings_count                       -0.00356                 -0.00189   \n",
       "host_total_listings_count                 -0.00356                 -0.00189   \n",
       "...                                            ...                      ...   \n",
       "host_acceptance_rate_2%                   -0.00032                  1.00000   \n",
       "host_acceptance_rate_4%                   -0.00045                 -0.00022   \n",
       "host_acceptance_rate_12%                  -0.00041                 -0.00020   \n",
       "host_acceptance_rate_1%                   -0.00023                 -0.00011   \n",
       "host_acceptance_rate_16%                  -0.00018                 -0.00009   \n",
       "\n",
       "                           host_acceptance_rate_4%  host_acceptance_rate_12%  \\\n",
       "id                                         0.00044                   0.01648   \n",
       "scrape_id                                  0.00000                  -0.00000   \n",
       "host_id                                    0.00489                   0.02066   \n",
       "host_listings_count                       -0.00258                   0.01293   \n",
       "host_total_listings_count                 -0.00258                   0.01293   \n",
       "...                                            ...                       ...   \n",
       "host_acceptance_rate_2%                   -0.00022                  -0.00020   \n",
       "host_acceptance_rate_4%                    1.00000                  -0.00029   \n",
       "host_acceptance_rate_12%                  -0.00029                   1.00000   \n",
       "host_acceptance_rate_1%                   -0.00016                  -0.00014   \n",
       "host_acceptance_rate_16%                  -0.00013                  -0.00012   \n",
       "\n",
       "                           host_acceptance_rate_1%  host_acceptance_rate_16%  \n",
       "id                                         0.00622                   0.00848  \n",
       "scrape_id                                  0.00000                   0.00000  \n",
       "host_id                                    0.00806                   0.00013  \n",
       "host_listings_count                        0.00056                  -0.00113  \n",
       "host_total_listings_count                  0.00056                  -0.00113  \n",
       "...                                            ...                       ...  \n",
       "host_acceptance_rate_2%                   -0.00011                  -0.00009  \n",
       "host_acceptance_rate_4%                   -0.00016                  -0.00013  \n",
       "host_acceptance_rate_12%                  -0.00014                  -0.00012  \n",
       "host_acceptance_rate_1%                    1.00000                  -0.00006  \n",
       "host_acceptance_rate_16%                  -0.00006                   1.00000  \n",
       "\n",
       "[148 rows x 148 columns]"
      ]
     },
     "execution_count": 42,
     "metadata": {},
     "output_type": "execute_result"
    }
   ],
   "source": [
    "corr_matrix = round(df.corr(),5)\n",
    "corr_matrix"
   ]
  },
  {
   "cell_type": "markdown",
   "metadata": {},
   "source": [
    "The result is a computed *correlation matrix*. The values on the diagonal are all equal to 1 because they represent the correlations between each column with itself. The matrix is symmetrical with respect to the diagonal.<br>\n",
    "\n",
    "We only need to observe correlations of all features with the column `label_price` (as opposed to every possible pairwise correlation). Se let's query the `label_price` column of this matrix:\n",
    "\n",
    "**Task**: Extract the `label_price` column of the correlation matrix and save the results to the variable `corrs`."
   ]
  },
  {
   "cell_type": "code",
   "execution_count": 43,
   "metadata": {},
   "outputs": [
    {
     "data": {
      "text/plain": [
       "id                           0.07907\n",
       "scrape_id                   -0.00000\n",
       "host_id                      0.04053\n",
       "host_listings_count          0.13104\n",
       "host_total_listings_count    0.13104\n",
       "                              ...   \n",
       "host_acceptance_rate_2%     -0.00327\n",
       "host_acceptance_rate_4%     -0.00543\n",
       "host_acceptance_rate_12%     0.02424\n",
       "host_acceptance_rate_1%      0.00172\n",
       "host_acceptance_rate_16%    -0.00091\n",
       "Name: label_price, Length: 148, dtype: float64"
      ]
     },
     "execution_count": 43,
     "metadata": {},
     "output_type": "execute_result"
    }
   ],
   "source": [
    "corrs = corr_matrix['label_price']# YOUR CODE HERE\n",
    "corrs"
   ]
  },
  {
   "cell_type": "markdown",
   "metadata": {},
   "source": [
    "**Task**: Sort the values of the series we just obtained in the descending order and save the results to the variable `corrs_sorted`."
   ]
  },
  {
   "cell_type": "code",
   "execution_count": 44,
   "metadata": {},
   "outputs": [
    {
     "data": {
      "text/plain": [
       "label_price                     1.00000\n",
       "price                           0.71112\n",
       "accommodates                    0.50062\n",
       "bedrooms                        0.41996\n",
       "beds                            0.37370\n",
       "                                 ...   \n",
       "host_total_listings_count_na        NaN\n",
       "bathrooms_na                        NaN\n",
       "bedrooms_na                         NaN\n",
       "beds_na                             NaN\n",
       "host_acceptance_rate_nan            NaN\n",
       "Name: label_price, Length: 148, dtype: float64"
      ]
     },
     "execution_count": 44,
     "metadata": {},
     "output_type": "execute_result"
    }
   ],
   "source": [
    "corrs_sorted = corrs.sort_values(ascending = False)# YOUR CODE HERE\n",
    "corrs_sorted"
   ]
  },
  {
   "cell_type": "markdown",
   "metadata": {},
   "source": [
    "**Task**: Use Pandas indexing to extract the column names for the top two correlation values and save the results to the Python list `top_two_corr`. Add the feature names to the list in the order in which they appear in the output above. <br> \n",
    "\n",
    "<b>Note</b>: Do not count the correlation of `label` column with itself, nor the `price` column -- which is the `label` column prior to outlier removal."
   ]
  },
  {
   "cell_type": "code",
   "execution_count": 45,
   "metadata": {},
   "outputs": [
    {
     "data": {
      "text/plain": [
       "['accommodates', 'bedrooms']"
      ]
     },
     "execution_count": 45,
     "metadata": {},
     "output_type": "execute_result"
    }
   ],
   "source": [
    "top_two_corr = list(corrs_sorted[2:4].index)# YOUR CODE HERE\n",
    "top_two_corr"
   ]
  },
  {
   "cell_type": "markdown",
   "metadata": {},
   "source": [
    "#### Bivariate Plotting: Produce Plots for the Label and Its Top Correlates\n",
    "\n",
    "Let us visualize our data."
   ]
  },
  {
   "cell_type": "markdown",
   "metadata": {},
   "source": [
    "We will use the `pairplot()` function in `seaborn` to plot the relationships between the two features and the label."
   ]
  },
  {
   "cell_type": "markdown",
   "metadata": {},
   "source": [
    "**Task**: Create a DataFrame `df_corrs` that contains only three columns from DataFrame `df`: the label, and the two columns which correlate with it the most."
   ]
  },
  {
   "cell_type": "code",
   "execution_count": 46,
   "metadata": {
    "scrolled": true
   },
   "outputs": [],
   "source": [
    "df_corrs = pd.DataFrame({'listing price': df['price'], 'accommodates': df['accommodates'], 'bedrooms': df['bedrooms']})"
   ]
  },
  {
   "cell_type": "markdown",
   "metadata": {},
   "source": [
    "**Task**: Create a `seaborn` pairplot of the data subset you just created. Specify the *kernel density estimator* as the kind of the plot, and make sure that you don't plot redundant plots.\n",
    "\n",
    "<i>Note</i>: It will take a few minutes to run and produce a plot."
   ]
  },
  {
   "cell_type": "code",
   "execution_count": 47,
   "metadata": {},
   "outputs": [
    {
     "data": {
      "image/png": "[encoded data removed]",
      "text/plain": [
       "<Figure size 540x540 with 9 Axes>"
      ]
     },
     "metadata": {
      "needs_background": "light"
     },
     "output_type": "display_data"
    }
   ],
   "source": [
    "# YOUR CODE HERE\n",
    "sns.pairplot(df_corrs, kind = 'kde', corner = True) # YOUR CODE HERE\n",
    "plt.show()"
   ]
  },
  {
   "cell_type": "markdown",
   "metadata": {},
   "source": [
    "## Part 5: Analysis\n",
    "\n",
    "1. Think about the possible interpretation of the plot. Recall that the label is the listing price. <br> How would you explain the relationship between the label and the two features? Is there a slight tilt to the points cluster, as the price goes up?<br>\n",
    "2. Are the top two correlated features strongly or weakly correlated with the label? Are they features that should be used for our predictive machine learning problem?\n",
    "3. Inspect your data matrix. It has a few features that contain unstructured text, meaning text data that is neither numerical nor categorical. List some features that contain unstructured text that you think are valuable for our predictive machine learning problem. Are there other remaining features that you think need to be prepared for the modeling phase? Do you have any suggestions on how to prepare these features?\n",
    "\n",
    "Record your findings in the cell below."
   ]
  },
  {
   "cell_type": "markdown",
   "metadata": {},
   "source": [
    "For both the two features, 'accommodates' and 'bedrooms', the data points steadily increase as the listing price increases. Yes, there is a slight tilt to the points cluster as the prices go up.\n",
    "\n",
    "I believe the top two correlated features have a weaker correlation to the label. Although there is a slight increase as the listing price increases, there isn't as much of a difference depending on the label alone. As the correlation is on the weaker side (which I interpret as the features have an impact on the data, but not as big as expected), I do not think they would be the best features to use in our predictive machine learning problem.\n",
    "\n",
    "I think neighborhood_overview and host_location are examples of columns that contain data in the form of unstructured text, which are valuable for our predictive machine learning problem. When customers are deciding on property, many consider the location and neighborhood to ensure safety and proximity to desired places. Other features that don't have unstructured text but can be useful for training the machine learning model are host_verifications and amenities. Host_verifications are important because customers will want to verify their hosts before committing and amenities. As there are overlapping unique values, these features can be one-hot encoded. Although this wouldn't be the best way to prepare them, it is one way possible."
   ]
  },
  {
   "cell_type": "code",
   "execution_count": null,
   "metadata": {},
   "outputs": [],
   "source": []
  },
  {
   "cell_type": "code",
   "execution_count": null,
   "metadata": {},
   "outputs": [],
   "source": []
  }
 ],
 "metadata": {
  "kernelspec": {
   "display_name": "Python 3",
   "language": "python",
   "name": "python3"
  },
  "language_info": {
   "codemirror_mode": {
    "name": "ipython",
    "version": 3
   },
   "file_extension": ".py",
   "mimetype": "text/x-python",
   "name": "python",
   "nbconvert_exporter": "python",
   "pygments_lexer": "ipython3",
   "version": "3.6.9"
  },
  "toc": {
   "base_numbering": 1,
   "nav_menu": {},
   "number_sections": false,
   "sideBar": true,
   "skip_h1_title": false,
   "title_cell": "Table of Contents",
   "title_sidebar": "Contents",
   "toc_cell": false,
   "toc_position": {},
   "toc_section_display": true,
   "toc_window_display": false
  },
  "varInspector": {
   "cols": {
    "lenName": 16,
    "lenType": 16,
    "lenVar": 40
   },
   "kernels_config": {
    "python": {
     "delete_cmd_postfix": "",
     "delete_cmd_prefix": "del ",
     "library": "var_list.py",
     "varRefreshCmd": "print(var_dic_list())"
    },
    "r": {
     "delete_cmd_postfix": ") ",
     "delete_cmd_prefix": "rm(",
     "library": "var_list.r",
     "varRefreshCmd": "cat(var_dic_list()) "
    }
   },
   "types_to_exclude": [
    "module",
    "function",
    "builtin_function_or_method",
    "instance",
    "_Feature"
   ],
   "window_display": false
  }
 },
 "nbformat": 4,
 "nbformat_minor": 2
}
